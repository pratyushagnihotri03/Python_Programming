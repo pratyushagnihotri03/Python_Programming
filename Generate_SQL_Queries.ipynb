{
  "nbformat": 4,
  "nbformat_minor": 0,
  "metadata": {
    "colab": {
      "name": "Generate SQL Queries.ipynb",
      "provenance": [],
      "collapsed_sections": [],
      "authorship_tag": "ABX9TyPZb/3rJUKWnbu4UodTz/lH",
      "include_colab_link": true
    },
    "kernelspec": {
      "name": "python3",
      "display_name": "Python 3"
    }
  },
  "cells": [
    {
      "cell_type": "markdown",
      "metadata": {
        "id": "view-in-github",
        "colab_type": "text"
      },
      "source": [
        "<a href=\"https://colab.research.google.com/github/pratyushagnihotri03/Python_Programming/blob/master/Generate_SQL_Queries.ipynb\" target=\"_parent\"><img src=\"https://colab.research.google.com/assets/colab-badge.svg\" alt=\"Open In Colab\"/></a>"
      ]
    },
    {
      "cell_type": "markdown",
      "metadata": {
        "id": "FKc6WTp2HwtT"
      },
      "source": [
        "### Python Sql Queries"
      ]
    },
    {
      "cell_type": "code",
      "metadata": {
        "id": "aH_6sG8gHvJw"
      },
      "source": [
        "import datetime\n",
        "\n",
        "# User input for data set\n",
        "userID = input(\"Enter USER_ID:\")\n",
        "userName = input(\"Enter USER_NAME:\")\n",
        "noParticipant = int(input(\"How many participants do you need? \"))\n",
        "noTask = int(input(\"How many tasks do you need for each participant? \"))\n",
        "duration = int(input(\"How much time difference do you need between each task (minutes)? \"))\n",
        "\n",
        "participantsLst = []\n",
        "\n",
        "tasksLst = []\n",
        "\n",
        "now = datetime.datetime.now()\n",
        "\n",
        "now_plus = now\n",
        "\n",
        "plan_item = 0"
      ],
      "execution_count": null,
      "outputs": []
    },
    {
      "cell_type": "code",
      "metadata": {
        "id": "i-5I2H-0dedY"
      },
      "source": [
        "# input of participants\n",
        "for numberOfParticipant in range(0,noParticipant):\n",
        "  participantsLst.append(input(\"Enter participant name - PI_Name:\"))"
      ],
      "execution_count": null,
      "outputs": []
    },
    {
      "cell_type": "code",
      "metadata": {
        "id": "emD2CN6ldcyz"
      },
      "source": [
        "# input of tasks\n",
        "for numberOfTasks in range(0,noTask):\n",
        "  tasksLst.append(input(\"Enter task description - T_DESCR:\"))"
      ],
      "execution_count": null,
      "outputs": []
    },
    {
      "cell_type": "code",
      "metadata": {
        "id": "TjzVD1GadcI0"
      },
      "source": [
        "# Generate SQL query for the user per industry:\n",
        "print(\"INSERT INTO user (id, name) VALUES (\",userID,\",'\",userName,\"');\")"
      ],
      "execution_count": null,
      "outputs": []
    },
    {
      "cell_type": "code",
      "metadata": {
        "id": "YM4kYOrtdY40"
      },
      "source": [
        "# Generate SQL query for the number of possible participants:\n",
        "for participant in range(0,len(participantsLst)):\n",
        "  print(\"INSERT INTO participant (id, name) VALUES (\",participant,\",'\",participantsLst[participant],\"');\")\n",
        "  participant = participant+1"
      ],
      "execution_count": null,
      "outputs": []
    },
    {
      "cell_type": "code",
      "metadata": {
        "id": "ww6MjlqcdWzR"
      },
      "source": [
        "# Generate SQL query for the number of possible tasks:\n",
        "for task in range(0,len(tasksLst)):\n",
        "  print(\"INSERT INTO task (id, description) VALUES (\",task,\",'\",tasksLst[task],\"');\")\n",
        "  task = task+1"
      ],
      "execution_count": null,
      "outputs": []
    },
    {
      "cell_type": "code",
      "metadata": {
        "id": "VBVtGflzdTT7"
      },
      "source": [
        "# Generate SQL query for plan and its task items\n",
        "for participant in range(0,len(participantsLst)):\n",
        "  for task in range(0,len(tasksLst)):\n",
        "    print(\"INSERT INTO plan_item_task (plan_item_id, task_id) VALUES (\",participant,\",\",task,\");\")\n",
        "    task = task + 1\n",
        "  participant = participant+1"
      ],
      "execution_count": null,
      "outputs": []
    },
    {
      "cell_type": "code",
      "metadata": {
        "id": "RIFBvSN1eDiJ"
      },
      "source": [
        "# Generate SQL query for plan item\n",
        "for participant in range(0,len(participantsLst)):\n",
        "  print(\"INSERT INTO plan_item (id, time, ordinal, description, location, user_id, report_id, participant_id) VALUES (\",plan_item,\",{ts '\",now_plus, \"' Europe/Berlin'},\",plan_item,\", 'HB-AR 2020', null, 0, null,\",participant,\");\")\n",
        "  now_plus = now + datetime.timedelta(minutes = duration)\n",
        "  participant = participant+1\n",
        "  plan_item = plan_item + 1"
      ],
      "execution_count": null,
      "outputs": []
    }
  ]
}