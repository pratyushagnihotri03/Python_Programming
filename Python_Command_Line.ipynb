{
  "nbformat": 4,
  "nbformat_minor": 0,
  "metadata": {
    "colab": {
      "name": "Python_Command_Line.ipynb",
      "provenance": [],
      "authorship_tag": "ABX9TyOcUBa7HmzGUin79L5IcY84",
      "include_colab_link": true
    },
    "kernelspec": {
      "name": "python3",
      "display_name": "Python 3"
    }
  },
  "cells": [
    {
      "cell_type": "markdown",
      "metadata": {
        "id": "view-in-github",
        "colab_type": "text"
      },
      "source": [
        "<a href=\"https://colab.research.google.com/github/pratyushagnihotri03/Python_Programming/blob/master/Python_Command_Line.ipynb\" target=\"_parent\"><img src=\"https://colab.research.google.com/assets/colab-badge.svg\" alt=\"Open In Colab\"/></a>"
      ]
    },
    {
      "cell_type": "markdown",
      "metadata": {
        "id": "ZfWp-mxRFbS6"
      },
      "source": [
        "### Command Line Argument"
      ]
    },
    {
      "cell_type": "code",
      "metadata": {
        "id": "GcSS_73mFT-_",
        "outputId": "745a8e2f-2062-49e1-fdfd-91dd0fe15f4f",
        "colab": {
          "base_uri": "https://localhost:8080/",
          "height": 94
        }
      },
      "source": [
        "import sys\n",
        "\n",
        "lst=sys.argv\n",
        "\n",
        "for i in lst:\n",
        "  print(i)\n",
        "\n",
        "print(len(lst))"
      ],
      "execution_count": 2,
      "outputs": [
        {
          "output_type": "stream",
          "text": [
            "/usr/local/lib/python3.6/dist-packages/ipykernel_launcher.py\n",
            "-f\n",
            "/root/.local/share/jupyter/runtime/kernel-c5cc362e-b57c-4714-9518-d9917269f61e.json\n",
            "3\n"
          ],
          "name": "stdout"
        }
      ]
    },
    {
      "cell_type": "markdown",
      "metadata": {
        "id": "RCxa8-kFToT1"
      },
      "source": [
        "### Example"
      ]
    },
    {
      "cell_type": "code",
      "metadata": {
        "id": "GmU7x2ldTh6V"
      },
      "source": [
        "import sys\n",
        "accBalance = 10000\n",
        "lst = sys.argv\n",
        "if lst[1] == \"1\":\n",
        "    print(\"Your Balance Account is:\",accBalance)\n",
        "elif lst[1] == \"2\":\n",
        "    amount = int(input(\"How much money do you want to withdraw? \"))\n",
        "    accBalance -= amount\n",
        "    print(\"Your current account balance is\",accBalance)\n",
        "elif lst[1] == \"3\":\n",
        "    amount = int(input(\"How much money do you want to deposit? \"))\n",
        "    accBalance += amount\n",
        "    print(\"Your current account balance is\", accBalance)\n",
        "elif lst[1] == \"4\":\n",
        "    amount = int(input(\"For what amount is the check for? \"))\n",
        "    accBalance += amount\n",
        "    print(\"Your current account balance is\", accBalance)\n",
        "else: print(\"Invalid ATM operation\")"
      ],
      "execution_count": null,
      "outputs": []
    }
  ]
}