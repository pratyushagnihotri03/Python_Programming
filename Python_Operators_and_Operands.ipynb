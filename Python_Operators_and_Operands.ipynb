{
  "nbformat": 4,
  "nbformat_minor": 0,
  "metadata": {
    "colab": {
      "name": "Python_Operators_and_Operands",
      "provenance": [],
      "collapsed_sections": [],
      "authorship_tag": "ABX9TyMdCogrtU5IkVCpEQtrhjPf",
      "include_colab_link": true
    },
    "kernelspec": {
      "name": "python3",
      "display_name": "Python 3"
    }
  },
  "cells": [
    {
      "cell_type": "markdown",
      "metadata": {
        "id": "view-in-github",
        "colab_type": "text"
      },
      "source": [
        "<a href=\"https://colab.research.google.com/github/pratyushagnihotri03/Python_Programming/blob/master/Python_Operators_and_Operands.ipynb\" target=\"_parent\"><img src=\"https://colab.research.google.com/assets/colab-badge.svg\" alt=\"Open In Colab\"/></a>"
      ]
    },
    {
      "cell_type": "markdown",
      "metadata": {
        "id": "HBG2Y7AWThoS"
      },
      "source": [
        "### Arithmetic Operators"
      ]
    },
    {
      "cell_type": "code",
      "metadata": {
        "id": "mmAY5j3nTa3b",
        "outputId": "397637d4-d3a4-499c-ab6b-a7bd933414e3",
        "colab": {
          "base_uri": "https://localhost:8080/",
          "height": 233
        }
      },
      "source": [
        "val1 = int(input(\"what is you first value?\\n\"))\n",
        "val2 = int(input(\"what is you first value?\\n\"))\n",
        "\n",
        "print('val1= ', val1, 'val2= ', val2)\n",
        "\n",
        "print('Addition:', val1+val2)\n",
        "print('Subtraction:', val1-val2)\n",
        "print('Multiplication:', val1*val2)\n",
        "print('Division:', val1/val2)\n",
        "print('Mod:', val1&val2)\n",
        "print('Pow:', val1**val2)\n",
        "print('Floor Div:', val1//val2)"
      ],
      "execution_count": null,
      "outputs": [
        {
          "output_type": "stream",
          "text": [
            "what is you first value?\n",
            "10\n",
            "what is you first value?\n",
            "5\n",
            "val1=  10 val2=  5\n",
            "Addition: 15\n",
            "Subtraction: 5\n",
            "Multiplication: 50\n",
            "Division: 2.0\n",
            "Mod: 0\n",
            "Pow: 100000\n",
            "Floor Div: 2\n"
          ],
          "name": "stdout"
        }
      ]
    },
    {
      "cell_type": "markdown",
      "metadata": {
        "id": "v43CSa8RTm3H"
      },
      "source": [
        "### Assignment Operators"
      ]
    },
    {
      "cell_type": "code",
      "metadata": {
        "id": "eEJQ1b3fTlAu"
      },
      "source": [
        "a=b=c=10\n",
        "print(a,b,c)\n",
        "\n",
        "x,y=10,5\n",
        "\n",
        "x+=y\n",
        "print(x)\n",
        "x*=y\n",
        "print(x)"
      ],
      "execution_count": null,
      "outputs": []
    },
    {
      "cell_type": "markdown",
      "metadata": {
        "id": "CyaXRkANTl9b"
      },
      "source": [
        "### Comparison Operators\n"
      ]
    },
    {
      "cell_type": "code",
      "metadata": {
        "id": "rNuaYKb3TxPn",
        "outputId": "ae9a48eb-3348-4a49-8486-09070253c510",
        "colab": {
          "base_uri": "https://localhost:8080/",
          "height": 143
        }
      },
      "source": [
        "print('val1= ', val1, 'val2= ', val2)\n",
        "\n",
        "print('==:', val1==val2)\n",
        "print('!=:', val1!=val2)\n",
        "print('>:', val1>val2)\n",
        "print('<:', val1<val2)\n",
        "print('>=:', val1>=val2)\n",
        "print('<=:', val1<=val2)"
      ],
      "execution_count": null,
      "outputs": [
        {
          "output_type": "stream",
          "text": [
            "val1=  10 val2=  5\n",
            "==: False\n",
            "!=: True\n",
            ">: True\n",
            "<: False\n",
            ">=: True\n",
            "<=: False\n"
          ],
          "name": "stdout"
        }
      ]
    },
    {
      "cell_type": "markdown",
      "metadata": {
        "id": "-86O7_TqTx7j"
      },
      "source": [
        "### Logical Operator"
      ]
    },
    {
      "cell_type": "code",
      "metadata": {
        "id": "dOKI75mUT0wt",
        "outputId": "90d324d8-4f1c-494f-89cc-9ac8d8654813",
        "colab": {
          "base_uri": "https://localhost:8080/",
          "height": 53
        }
      },
      "source": [
        "print('and:', val1==25 and val2==30)\n",
        "print('or:', val1==25 or val2==5)"
      ],
      "execution_count": null,
      "outputs": [
        {
          "output_type": "stream",
          "text": [
            "and: False\n",
            "or: True\n"
          ],
          "name": "stdout"
        }
      ]
    },
    {
      "cell_type": "markdown",
      "metadata": {
        "id": "UAVUlAa2T1vc"
      },
      "source": [
        "### Operators BMI Usecase"
      ]
    },
    {
      "cell_type": "code",
      "metadata": {
        "id": "ATH-sjQwT760",
        "outputId": "66b88963-1073-4691-dc99-bbbac0b75fe7",
        "colab": {
          "base_uri": "https://localhost:8080/",
          "height": 35
        }
      },
      "source": [
        "height=6.2\n",
        "weight=85\n",
        "\n",
        "#bmi = weight in kg/(height*height in meters)\n",
        "\n",
        "heightInMeters = height * 0.4546\n",
        "\n",
        "bmi = weight/(heightInMeters*heightInMeters)\n",
        "print(\"BMI\", bmi)"
      ],
      "execution_count": null,
      "outputs": [
        {
          "output_type": "stream",
          "text": [
            "BMI 10.699825228138316\n"
          ],
          "name": "stdout"
        }
      ]
    }
  ]
}