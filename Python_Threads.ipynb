{
  "nbformat": 4,
  "nbformat_minor": 0,
  "metadata": {
    "colab": {
      "name": "Python_Threads.ipynb",
      "provenance": [],
      "collapsed_sections": [],
      "authorship_tag": "ABX9TyO7c7R5/GOuTN2VPikyJocL",
      "include_colab_link": true
    },
    "kernelspec": {
      "name": "python3",
      "display_name": "Python 3"
    }
  },
  "cells": [
    {
      "cell_type": "markdown",
      "metadata": {
        "id": "view-in-github",
        "colab_type": "text"
      },
      "source": [
        "<a href=\"https://colab.research.google.com/github/pratyushagnihotri03/Python_Programming/blob/master/Python_Threads.ipynb\" target=\"_parent\"><img src=\"https://colab.research.google.com/assets/colab-badge.svg\" alt=\"Open In Colab\"/></a>"
      ]
    },
    {
      "cell_type": "markdown",
      "metadata": {
        "id": "t2vEpOhtIoai"
      },
      "source": [
        "### Main and current thread"
      ]
    },
    {
      "cell_type": "code",
      "metadata": {
        "id": "V5eto1doIjHN"
      },
      "source": [
        "import threading\n",
        "\n",
        "print(\"Current thread that is running:\", threading.current_thread().getName())\n",
        "\n",
        "if threading.current_thread() == threading.main_thread():\n",
        "  print(\"Main thread\")\n",
        "else:\n",
        "  print(\"some other thread\")"
      ],
      "execution_count": null,
      "outputs": []
    },
    {
      "cell_type": "markdown",
      "metadata": {
        "id": "gZaEpUT2JODv"
      },
      "source": [
        "### Thread using a function"
      ]
    },
    {
      "cell_type": "code",
      "metadata": {
        "id": "u6IYWvYEJQ-c"
      },
      "source": [
        "from threading import Thread\n",
        "\n",
        "def displayNumbers():\n",
        "  i = 0\n",
        "  while(i<=10):\n",
        "    print(i)\n",
        "    i+=1\n",
        "\n",
        "t = Thread(target=displayNumbers)\n",
        "t.start()"
      ],
      "execution_count": null,
      "outputs": []
    },
    {
      "cell_type": "markdown",
      "metadata": {
        "id": "LSo5_u_PJsMe"
      },
      "source": [
        "### Printing thread names"
      ]
    },
    {
      "cell_type": "code",
      "metadata": {
        "id": "UrRW2a_GJucn"
      },
      "source": [
        "from threading import *\n",
        "\n",
        "def displayNumbers():\n",
        "  i = 0\n",
        "  print(current_thread().getName())\n",
        "  while(i<=10):\n",
        "    print(i)\n",
        "    i+=1\n",
        "\n",
        "print(current_thread().getName())\n",
        "t = Thread(target=displayNumbers)\n",
        "t.start()"
      ],
      "execution_count": null,
      "outputs": []
    },
    {
      "cell_type": "markdown",
      "metadata": {
        "id": "F-e97_2YLNNC"
      },
      "source": [
        "### Thread extending the thread class"
      ]
    },
    {
      "cell_type": "code",
      "metadata": {
        "id": "Bpchtj5pLQHp"
      },
      "source": [
        "from threading import Thread\n",
        "\n",
        "class MyThread(Thread):\n",
        "  \n",
        "  def run(self):\n",
        "    i = 0\n",
        "    while(i<=10):\n",
        "      print(i)\n",
        "      i+=1\n",
        "\n",
        "t = MyThread()\n",
        "t.start()"
      ],
      "execution_count": null,
      "outputs": []
    },
    {
      "cell_type": "markdown",
      "metadata": {
        "id": "LQe8uDwxMQ53"
      },
      "source": [
        "### Thread using a class"
      ]
    },
    {
      "cell_type": "code",
      "metadata": {
        "id": "2H_2EDZtMT0R"
      },
      "source": [
        "from threading import *\n",
        "\n",
        "class MyThread:\n",
        "  def displayNumbers(self):\n",
        "    i = 0\n",
        "    print(current_thread().getName())\n",
        "    while(i<=10):\n",
        "      print(i)\n",
        "      i+=1\n",
        "\n",
        "obj = MyThread()\n",
        "t = Thread(target=obj.displayNumbers)\n",
        "t.start()"
      ],
      "execution_count": null,
      "outputs": []
    },
    {
      "cell_type": "markdown",
      "metadata": {
        "id": "Obz2nAyFM1Fh"
      },
      "source": [
        "### Multithread in action"
      ]
    },
    {
      "cell_type": "code",
      "metadata": {
        "id": "yXKFASPoM3ec"
      },
      "source": [
        "from threading import *\n",
        "\n",
        "class MyThread:\n",
        "  def displayNumbers(self):\n",
        "    i = 0\n",
        "    print(current_thread().getName())\n",
        "    while(i<=10):\n",
        "      print(i)\n",
        "      i+=1\n",
        "\n",
        "obj = MyThread()\n",
        "t = Thread(target=obj.displayNumbers)\n",
        "t.start()\n",
        "\n",
        "t2 = Thread(target=obj.displayNumbers)\n",
        "t2.start()\n",
        "\n",
        "t3 = Thread(target=obj.displayNumbers)\n",
        "t3.start()"
      ],
      "execution_count": null,
      "outputs": []
    },
    {
      "cell_type": "markdown",
      "metadata": {
        "id": "lTGJDD-4NuXD"
      },
      "source": [
        "### Using sleep()"
      ]
    },
    {
      "cell_type": "code",
      "metadata": {
        "id": "y_moyfmbNxcK"
      },
      "source": [
        "from threading import *\n",
        "from time import sleep\n",
        "\n",
        "class MyThread:\n",
        "  def displayNumbers(self):\n",
        "    i = 0\n",
        "    print(current_thread().getName())\n",
        "    sleep(1)\n",
        "    while(i<=10):\n",
        "      print(i)\n",
        "      i+=1\n",
        "\n",
        "obj = MyThread()\n",
        "t = Thread(target=obj.displayNumbers)\n",
        "t.start()\n",
        "\n",
        "t2 = Thread(target=obj.displayNumbers)\n",
        "t2.start()\n",
        "\n",
        "t3 = Thread(target=obj.displayNumbers)\n",
        "t3.start()"
      ],
      "execution_count": null,
      "outputs": []
    },
    {
      "cell_type": "markdown",
      "metadata": {
        "id": "3E4hHjjZOb2g"
      },
      "source": [
        "### The TicketBooking usecase"
      ]
    },
    {
      "cell_type": "code",
      "metadata": {
        "id": "KDlxGT1zOe8e"
      },
      "source": [
        "from threading import *\n",
        "\n",
        "class BookMyBus:\n",
        "\n",
        "  def buy(self):\n",
        "    print(\"Confirming a seat\")\n",
        "    print(\"processing the payment\")\n",
        "    print(\"printing the ticket\")\n",
        "\n",
        "obj = BookMyBus()\n",
        "t1 = Thread(target = obj.buy())\n",
        "t2 = Thread(target = obj.buy())\n",
        "t3 = Thread(target = obj.buy())\n",
        "\n",
        "t1.start()\n",
        "t2.start()\n",
        "t3.start()"
      ],
      "execution_count": null,
      "outputs": []
    },
    {
      "cell_type": "markdown",
      "metadata": {
        "id": "ztJn4x_VP8i4"
      },
      "source": [
        "### Thread Synchronization"
      ]
    },
    {
      "cell_type": "code",
      "metadata": {
        "id": "CckkmtmAQBGL"
      },
      "source": [
        "from threading import *\n",
        "\n",
        "class BookMyBus:\n",
        "\n",
        "  def __init__(self, availableSeats):\n",
        "    self.availableSeats = availableSeats\n",
        "\n",
        "  def buy(self, seatsRequested):\n",
        "    print(\"Total seats available:\", self.availableSeats)\n",
        "    if(self.availableSeats >= seatsRequested):\n",
        "      print(\"Confirming a seat\")\n",
        "      print(\"processing the payment\")\n",
        "      print(\"printing the ticket\")\n",
        "      self.availableSeats-=seatsRequested\n",
        "    else:\n",
        "      print(\"Sorry. No seats available\")\n",
        "\n",
        "obj = BookMyBus(10)\n",
        "t1 = Thread(target = obj.buy, args=(3,))\n",
        "t2 = Thread(target = obj.buy, args=(4,))\n",
        "t3 = Thread(target = obj.buy, args=(3,))\n",
        "\n",
        "t1.start()\n",
        "t2.start()\n",
        "t3.start()"
      ],
      "execution_count": null,
      "outputs": []
    },
    {
      "cell_type": "markdown",
      "metadata": {
        "id": "V0q1OF7TRmFd"
      },
      "source": [
        "### Synchronization using lock"
      ]
    },
    {
      "cell_type": "code",
      "metadata": {
        "id": "RQOkATOdRo-Q"
      },
      "source": [
        "from threading import *\n",
        "\n",
        "class BookMyBus:\n",
        "\n",
        "  def __init__(self, availableSeats):\n",
        "    self.availableSeats = availableSeats\n",
        "    self.l = Lock()\n",
        "\n",
        "  def buy(self, seatsRequested):\n",
        "    self.l.acquire()\n",
        "    print(\"Total seats available:\", self.availableSeats)\n",
        "    if(self.availableSeats >= seatsRequested):\n",
        "      print(\"Confirming a seat\")\n",
        "      print(\"processing the payment\")\n",
        "      print(\"printing the ticket\")\n",
        "      self.availableSeats-=seatsRequested\n",
        "    else:\n",
        "      print(\"Sorry. No seats available\")\n",
        "    self.l.release()\n",
        "\n",
        "obj = BookMyBus(10)\n",
        "t1 = Thread(target = obj.buy, args=(3,))\n",
        "t2 = Thread(target = obj.buy, args=(4,))\n",
        "t3 = Thread(target = obj.buy, args=(3,))\n",
        "\n",
        "t1.start()\n",
        "t2.start()\n",
        "t3.start()"
      ],
      "execution_count": null,
      "outputs": []
    },
    {
      "cell_type": "markdown",
      "metadata": {
        "id": "tHDfwNPrTEXB"
      },
      "source": [
        "### Synchronization using semaphore"
      ]
    },
    {
      "cell_type": "code",
      "metadata": {
        "id": "3BQyARsfTROk"
      },
      "source": [
        "from threading import *\n",
        "\n",
        "class BookMyBus:\n",
        "\n",
        "  def __init__(self, availableSeats):\n",
        "    self.availableSeats = availableSeats\n",
        "    self.l = Semaphore()\n",
        "\n",
        "  def buy(self, seatsRequested):\n",
        "    self.l.acquire()\n",
        "    print(\"Total seats available:\", self.availableSeats)\n",
        "    if(self.availableSeats >= seatsRequested):\n",
        "      print(\"Confirming a seat\")\n",
        "      print(\"processing the payment\")\n",
        "      print(\"printing the ticket\")\n",
        "      self.availableSeats-=seatsRequested\n",
        "    else:\n",
        "      print(\"Sorry. No seats available\")\n",
        "    self.l.release()\n",
        "\n",
        "obj = BookMyBus(10)\n",
        "t1 = Thread(target = obj.buy, args=(3,))\n",
        "t2 = Thread(target = obj.buy, args=(4,))\n",
        "t3 = Thread(target = obj.buy, args=(3,))\n",
        "\n",
        "t1.start()\n",
        "t2.start()\n",
        "t3.start()"
      ],
      "execution_count": null,
      "outputs": []
    },
    {
      "cell_type": "markdown",
      "metadata": {
        "id": "UFm_lRVHTtqg"
      },
      "source": [
        "### Using a boolean flag"
      ]
    },
    {
      "cell_type": "code",
      "metadata": {
        "id": "WA__PEAETwZ0"
      },
      "source": [
        "from threading import *\n",
        "from time import *\n",
        "\n",
        "class Producer:\n",
        "  def __init__(self):\n",
        "    self.products = []\n",
        "    self.ordersplaced = False\n",
        "  \n",
        "  def produce(self):\n",
        "    for i in range(1,5):\n",
        "      self.products.append(\"Products\"+i)\n",
        "      sleep(1)\n",
        "      print(\"item added\")\n",
        "    self.ordersplaced = True\n",
        "\n",
        "\n",
        "class Consumer:\n",
        "\n",
        "    def __init__(self, prod):\n",
        "      self.prod = prod\n",
        "  \n",
        "    def consume(self):\n",
        "      while self.prod.ordersplaced == False:\n",
        "        sleep(0.2)\n",
        "\n",
        "      print(\"orders shipped\"+self.prod.products)\n",
        "\n",
        "p = Producer()\n",
        "c = Consumer(p)\n",
        "\n",
        "t1 = Thread(target = p.produce)\n",
        "t2 = Thread(target = c.consume)\n",
        "\n",
        "t1.start()\n",
        "t2.start()"
      ],
      "execution_count": null,
      "outputs": []
    },
    {
      "cell_type": "markdown",
      "metadata": {
        "id": "0nfQ18eSVwW3"
      },
      "source": [
        "### Thread communication using wait and notify"
      ]
    },
    {
      "cell_type": "code",
      "metadata": {
        "id": "rakbNiAgWYZx"
      },
      "source": [
        "from threading import *\n",
        "from time import *\n",
        "\n",
        "class Producer:\n",
        "  def __init__(self):\n",
        "    self.products = []\n",
        "    self.c = Condition()\n",
        "  \n",
        "  def produce(self):\n",
        "    self.c.acquire()\n",
        "\n",
        "    for i in range(1,5):\n",
        "      self.products.append(\"Products\"+i)\n",
        "      sleep(1)\n",
        "      print(\"item added\")\n",
        "    self.c.notify()\n",
        "    self.c.release()\n",
        "\n",
        "class Consumer:\n",
        "\n",
        "    def __init__(self, prod):\n",
        "      self.prod = prod\n",
        "  \n",
        "    def consume(self):\n",
        "      self.prod.c.acquire()\n",
        "      self.prod.wait(timeout=0)\n",
        "      self.prod.c.release()\n",
        "      print(\"orders shipped\"+self.prod.products)\n",
        "\n",
        "p = Producer()\n",
        "c = Consumer(p)\n",
        "\n",
        "t1 = Thread(target = p.produce)\n",
        "t2 = Thread(target = c.consume)\n",
        "\n",
        "t1.start()\n",
        "t2.start()"
      ],
      "execution_count": null,
      "outputs": []
    }
  ]
}