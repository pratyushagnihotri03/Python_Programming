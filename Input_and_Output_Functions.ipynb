{
  "nbformat": 4,
  "nbformat_minor": 0,
  "metadata": {
    "colab": {
      "name": "Input and Output Functions.ipynb",
      "provenance": [],
      "authorship_tag": "ABX9TyNjW6Pd6VlRa/hg5O6Udqe2",
      "include_colab_link": true
    },
    "kernelspec": {
      "name": "python3",
      "display_name": "Python 3"
    }
  },
  "cells": [
    {
      "cell_type": "markdown",
      "metadata": {
        "id": "view-in-github",
        "colab_type": "text"
      },
      "source": [
        "<a href=\"https://colab.research.google.com/github/pratyushagnihotri03/Python_Programming/blob/master/Input_and_Output_Functions.ipynb\" target=\"_parent\"><img src=\"https://colab.research.google.com/assets/colab-badge.svg\" alt=\"Open In Colab\"/></a>"
      ]
    },
    {
      "cell_type": "markdown",
      "metadata": {
        "id": "-UQV5jqMtMqT"
      },
      "source": [
        "### Print and String Formatting"
      ]
    },
    {
      "cell_type": "code",
      "metadata": {
        "id": "2W8tWPwVr58R"
      },
      "source": [
        "print()\n",
        "print(\"hello \\n\"*3)\n",
        "print(\"All the power \\n is with in you\")\n",
        "\n",
        "a,b=10,20\n",
        "print(a,b,sep=\"++++\")\n",
        "\n",
        "name=\"john\"\n",
        "marks=94.5678\n",
        "\n",
        "print(\"name is \", name, \"marks are\", marks)\n",
        "print(\"name is %s, marks are %.3f\" %(name,marks))\n",
        "print(\"name is {}, marks are {}\". format(name,marks))\n",
        "print(\"name is {0}, marks are {1}\". format(name,marks))"
      ],
      "execution_count": null,
      "outputs": []
    },
    {
      "cell_type": "markdown",
      "metadata": {
        "id": "5CTJUpjSv_UT"
      },
      "source": [
        "### Input"
      ]
    },
    {
      "cell_type": "code",
      "metadata": {
        "id": "txmEIJZ9wBHW"
      },
      "source": [
        "s=input()\n",
        "print(s)\n",
        "\n",
        "s=input(\"enter your name\")\n",
        "print(s)\n",
        "\n",
        "i = int(input(\"enter a integrer value:\"))\n",
        "print(type(i))"
      ],
      "execution_count": null,
      "outputs": []
    },
    {
      "cell_type": "markdown",
      "metadata": {
        "id": "_Yb08i_SyrEY"
      },
      "source": [
        "### Multiple Input"
      ]
    },
    {
      "cell_type": "code",
      "metadata": {
        "id": "OYbOmkpdytnz"
      },
      "source": [
        "lst = [float(x) for x in input(\"enter three number separated by comma:\".split(','))]\n",
        "print(lst)"
      ],
      "execution_count": null,
      "outputs": []
    },
    {
      "cell_type": "markdown",
      "metadata": {
        "id": "JS3-2qk711ou"
      },
      "source": [
        "### MyWay Sandwich\n"
      ]
    },
    {
      "cell_type": "code",
      "metadata": {
        "id": "a2q6UrCQ17F4"
      },
      "source": [
        "lst = [\"Onions\", \"Lettuce\", \"Tomato\", \"Olives\", \"Peppers\", \"Tomatoes\"]\n",
        "print(\"Available items for Sandwich \\n\", lst)\n",
        "s=input(\"Please pick three item for sandwich:\")\n",
        "cost=5\n",
        "print(\"Cost of one sandwich: $5\")\n",
        "i = int(input(\"how many sandwiches do you need:\" ))\n",
        "total=i*5;\n",
        "print(i, \"sandwiches cost $\",total)\n"
      ],
      "execution_count": null,
      "outputs": []
    },
    {
      "cell_type": "code",
      "metadata": {
        "id": "qivoPpye41ZZ"
      },
      "source": [
        "print('Onion', 'Lettuce', 'Tomato' ,'Olives', 'Peppers' , 'Lemons' ,sep =',') \n",
        "A =    [x  for x in  input(\"Pick three toppings separated by space:\").split()] \n",
        "print(A) \n",
        "B = int(input(\"how many :\")) \n",
        "print(B) \n",
        "total = float(B *5) \n",
        "print(\"total in dollar:\" ,total)"
      ],
      "execution_count": null,
      "outputs": []
    },
    {
      "cell_type": "markdown",
      "metadata": {
        "id": "s0TBB9RQ6KSc"
      },
      "source": [
        "### Student Details"
      ]
    },
    {
      "cell_type": "code",
      "metadata": {
        "id": "C0_XDXB26NZ9"
      },
      "source": [
        "id=(input(\"Enter student id:\"))\n",
        "name=(input(\"Enter student name:\"))\n",
        "marks=float(input(\"Enter marks scored:\"))\n",
        "print(\"ID:\", id, \"\\n Name:\", name, \"\\n Marks:\", marks)"
      ],
      "execution_count": null,
      "outputs": []
    },
    {
      "cell_type": "markdown",
      "metadata": {
        "id": "QhuBYHokFQfX"
      },
      "source": [
        "### Average of Three number"
      ]
    },
    {
      "cell_type": "code",
      "metadata": {
        "id": "BNhjCKFtFX-g"
      },
      "source": [
        "a,b,c =[int(x) for x in input(\"Enter three numbers:\").split()]\n",
        "average = (a+b+c)/3\n",
        "print(\"average\",average)"
      ],
      "execution_count": null,
      "outputs": []
    },
    {
      "cell_type": "markdown",
      "metadata": {
        "id": "jkIUrwbUGGkY"
      },
      "source": [
        "### Area of Circle"
      ]
    },
    {
      "cell_type": "code",
      "metadata": {
        "id": "t7L6d4H3GJh-"
      },
      "source": [
        "import math\n",
        "\n",
        "radius = float(input(\"Enter circle radius:\"))\n",
        "pi = 22/7\n",
        "circleArea = pi*radius**2\n",
        "circleArea1=math.pi*radius**2\n",
        "print(\"Circle Area:\", circleArea)\n",
        "print(\"Circle Area:\", circleArea1)"
      ],
      "execution_count": null,
      "outputs": []
    }
  ]
}