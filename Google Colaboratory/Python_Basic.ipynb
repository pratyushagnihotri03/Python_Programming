{
  "nbformat": 4,
  "nbformat_minor": 0,
  "metadata": {
    "colab": {
      "name": "Python Basic.ipynb",
      "provenance": []
    },
    "kernelspec": {
      "name": "python3",
      "display_name": "Python 3"
    }
  },
  "cells": [
    {
      "cell_type": "markdown",
      "metadata": {
        "id": "RFx2JhmHmw3W"
      },
      "source": [
        "### Hello World"
      ]
    },
    {
      "cell_type": "code",
      "metadata": {
        "id": "VrC1apF4mob_"
      },
      "source": [
        "print('Hello ! My first script')"
      ],
      "execution_count": null,
      "outputs": []
    },
    {
      "cell_type": "markdown",
      "metadata": {
        "id": "x8D4mCClmwPS"
      },
      "source": [
        "### If and Else Conditions"
      ]
    },
    {
      "cell_type": "code",
      "metadata": {
        "id": "GlVLnaC3m94l",
        "outputId": "486c25fd-01f2-47a9-f22e-e7dae0725e76",
        "colab": {
          "base_uri": "https://localhost:8080/",
          "height": 34
        }
      },
      "source": [
        "name = \"Lucy\"\n",
        "\n",
        "if name is \"Buck\":\n",
        "    print(\"Hey there Buck\")\n",
        "elif name is \"Lucy\":\n",
        "    print(\"What's up \" + name)\n",
        "elif name is \"Sammy\":\n",
        "    print(\"what up Sammy\")\n",
        "else:\n",
        "    print(\"Please sign up for the site\")"
      ],
      "execution_count": 3,
      "outputs": [
        {
          "output_type": "stream",
          "text": [
            "What's up Lucy\n"
          ],
          "name": "stdout"
        }
      ]
    },
    {
      "cell_type": "markdown",
      "metadata": {
        "id": "Xtje_iiGnM1B"
      },
      "source": [
        "### For Loop"
      ]
    },
    {
      "cell_type": "code",
      "metadata": {
        "id": "ezna0sohnOt4"
      },
      "source": [
        "foods = ['Potato', 'Tomato', 'Ginger', 'Garlic', 'Coriander']\n",
        "\n",
        "for f in foods:\n",
        "    print(f)\n",
        "    print(len(f))\n",
        "\n",
        "print('Limiting the number of values to be printed')\n",
        "for f in foods[:2]:\n",
        "    print(f)\n",
        "    print(len(f))"
      ],
      "execution_count": null,
      "outputs": []
    },
    {
      "cell_type": "markdown",
      "metadata": {
        "id": "QlEUeWianclY"
      },
      "source": [
        "### While Loop"
      ]
    },
    {
      "cell_type": "code",
      "metadata": {
        "id": "x7gJspHdnfWt"
      },
      "source": [
        "print('printing values from beginning:')\n",
        "for x in range(10):\n",
        "    print(x)\n",
        "\n",
        "print('printing values from start point to end point:')\n",
        "for x in range(10):\n",
        "    print(x)\n",
        "\n",
        "print('printing values from start point to end point with defined increment:')\n",
        "for x in range(10,40,5):\n",
        "    print(x)\n",
        "\n",
        "print('Using While loop:')\n",
        "varInteger = 5\n",
        "\n",
        "while varInteger < 10:\n",
        "    print(varInteger)\n",
        "    varInteger+=1"
      ],
      "execution_count": null,
      "outputs": []
    },
    {
      "cell_type": "markdown",
      "metadata": {
        "id": "5YkS_BHboGHt"
      },
      "source": [
        "### Comment, Break, and Continue"
      ]
    },
    {
      "cell_type": "code",
      "metadata": {
        "id": "1vdkOYqJoKuy"
      },
      "source": [
        "# Single Line Comment\n",
        "print('using Comments and Break:')\n",
        "magicNumber = 26\n",
        "'''\n",
        "Multiline comments\n",
        "author: Pratyush\n",
        "'''\n",
        "\n",
        "for n in range(101):\n",
        "    if n is magicNumber:\n",
        "        print(n, \"is the magic number !\")\n",
        "        break\n",
        "    else:\n",
        "        print(n)\n",
        "\n",
        "\n",
        "for n in range(100):\n",
        "    if n%4:\n",
        "        print(n, \"is divisible by 4 :)\")\n",
        "    else:\n",
        "        print(n, \"is not divisible by 4 :(\")"
      ],
      "execution_count": null,
      "outputs": []
    },
    {
      "cell_type": "code",
      "metadata": {
        "id": "W298dCGXoP85"
      },
      "source": [
        "numberTaken = [2,5, 12, 13, 17]\n",
        "\n",
        "print(\"Here are the numbers tha are still available:\")\n",
        "\n",
        "for n in range(1, 20):\n",
        "    if n in numberTaken:\n",
        "        continue\n",
        "    print(n)"
      ],
      "execution_count": null,
      "outputs": []
    },
    {
      "cell_type": "markdown",
      "metadata": {
        "id": "XLZ2ZlhPociX"
      },
      "source": [
        "### Functions"
      ]
    },
    {
      "cell_type": "code",
      "metadata": {
        "id": "L3magcW2oebL"
      },
      "source": [
        "'''\n",
        "Author: Pratyush\n",
        "Description: Calling function\n",
        "'''\n",
        "\n",
        "def beef():\n",
        "    print(\"Dayum, functions are cool!\")\n",
        "\n",
        "def bitcoin_to_usd(btc):\n",
        "    amount = btc * 527\n",
        "    print(amount)\n",
        "\n",
        "beef()\n",
        "bitcoin_to_usd(3.85)\n",
        "bitcoin_to_usd(1)\n",
        "bitcoin_to_usd(13)"
      ],
      "execution_count": null,
      "outputs": []
    },
    {
      "cell_type": "markdown",
      "metadata": {
        "id": "U6W2yySpopqH"
      },
      "source": [
        "### Return Value"
      ]
    },
    {
      "cell_type": "code",
      "metadata": {
        "id": "wRH8xWiPor1P"
      },
      "source": [
        "def allowed_dating_age(my_age):\n",
        "    girls_age = my_age/2 + 7\n",
        "    return girls_age\n",
        "\n",
        "my_dating_limit = allowed_dating_age(27)\n",
        "print(\"Pratyush can date girls\", my_dating_limit, \"or older\")\n",
        "\n",
        "my_brother_dating_limit = allowed_dating_age(25)\n",
        "print(\"Brother can date girls\", my_brother_dating_limit, \"or older\")"
      ],
      "execution_count": null,
      "outputs": []
    },
    {
      "cell_type": "markdown",
      "metadata": {
        "id": "ybtB5EdcpUFD"
      },
      "source": [
        ""
      ]
    },
    {
      "cell_type": "markdown",
      "metadata": {
        "id": "KOs9WWrcpo_B"
      },
      "source": [
        "### Default Value for Argument"
      ]
    },
    {
      "cell_type": "code",
      "metadata": {
        "id": "Usnlej_cpt03"
      },
      "source": [
        "def get_gender(sex='Unknown'):\n",
        "    if sex is 'm':\n",
        "        sex = \"Male\"\n",
        "    elif sex is 'f':\n",
        "        sex = 'Female'\n",
        "    print(sex)\n",
        "\n",
        "get_gender('m')\n",
        "get_gender('f')\n",
        "get_gender()"
      ],
      "execution_count": null,
      "outputs": []
    },
    {
      "cell_type": "markdown",
      "metadata": {
        "id": "tonsS6aKqWAr"
      },
      "source": [
        "### Variable Scope"
      ]
    },
    {
      "cell_type": "code",
      "metadata": {
        "id": "MN8qYd-uqY6c"
      },
      "source": [
        "a = 7823\n",
        "\n",
        "def corn():\n",
        "    a = 123\n",
        "    print(a, \"Inside corn function\")\n",
        "\n",
        "\n",
        "def fudge():\n",
        "    print(a)\n",
        "\n",
        "corn()\n",
        "fudge()"
      ],
      "execution_count": null,
      "outputs": []
    },
    {
      "cell_type": "markdown",
      "metadata": {
        "id": "15zWqfamqeos"
      },
      "source": [
        "### Keyword Arguments"
      ]
    },
    {
      "cell_type": "code",
      "metadata": {
        "id": "OQhxac3mqiug",
        "outputId": "57453d2e-44f4-403f-b796-2cb45ad8c805",
        "colab": {
          "base_uri": "https://localhost:8080/",
          "height": 87
        }
      },
      "source": [
        "def dumb_sentence(name='Bucky', action='ate', item='tuna'):\n",
        "    print(name, action, item)\n",
        "\n",
        "dumb_sentence()\n",
        "dumb_sentence(\"Sally\", \"farts\", \"gently\")\n",
        "dumb_sentence(item='awesome')\n",
        "dumb_sentence(item='awesome', action='is')"
      ],
      "execution_count": 4,
      "outputs": [
        {
          "output_type": "stream",
          "text": [
            "Bucky ate tuna\n",
            "Sally farts gently\n",
            "Bucky ate awesome\n",
            "Bucky is awesome\n"
          ],
          "name": "stdout"
        }
      ]
    },
    {
      "cell_type": "markdown",
      "metadata": {
        "id": "jE0NAsclqejN"
      },
      "source": [
        "### Flexible Number of Arguments"
      ]
    },
    {
      "cell_type": "code",
      "metadata": {
        "id": "1iOcTAMPqpFe"
      },
      "source": [
        "def add_numbers(*args):\n",
        "    total = 0\n",
        "    for a in args:\n",
        "        total += a\n",
        "    print(total)\n",
        "\n",
        "add_numbers(3)\n",
        "add_numbers(3, 32)\n",
        "add_numbers(3, 43, 5434, 345563, 3653446)"
      ],
      "execution_count": null,
      "outputs": []
    },
    {
      "cell_type": "markdown",
      "metadata": {
        "id": "5TTp2ACpqp2h"
      },
      "source": [
        "### Unpacking Arguments"
      ]
    },
    {
      "cell_type": "code",
      "metadata": {
        "id": "9d0IgIRMqtfk"
      },
      "source": [
        "def health_calculator(age, apples_ate, cigs_smoked):\n",
        "    answer = (100-age) + (apples_ate * 3.5) - (cigs_smoked * 2)\n",
        "    print(answer)\n",
        "\n",
        "my_data = [29, 20, 0]\n",
        "\n",
        "health_calculator(my_data[0], my_data[1], my_data[2])\n",
        "health_calculator(*my_data)"
      ],
      "execution_count": null,
      "outputs": []
    },
    {
      "cell_type": "markdown",
      "metadata": {
        "id": "ISyCbp6qqt_4"
      },
      "source": [
        "### Sets"
      ]
    },
    {
      "cell_type": "code",
      "metadata": {
        "id": "9wsANFTAq2kC"
      },
      "source": [
        "groceries = {'cereal', 'milk', 'starcrunch', 'beer', 'duct tpe', 'lotion', 'beer'}\n",
        "print(groceries)\n",
        "\n",
        "if 'milk' in groceries:\n",
        "    print(\"You have already a milk\")\n",
        "else:\n",
        "    print(\"Oh yea, you need milk\")"
      ],
      "execution_count": null,
      "outputs": []
    },
    {
      "cell_type": "markdown",
      "metadata": {
        "id": "VjFOSkVTq22r"
      },
      "source": [
        "### Dictionary"
      ]
    },
    {
      "cell_type": "code",
      "metadata": {
        "id": "IK7U2jRwq48k"
      },
      "source": [
        "classmates = {'Tony': ' Cool but smells', 'Emma': ' site behind me', 'Lucy': ' asks too many questions'}\n",
        "print(classmates)\n",
        "print(classmates['Emma'])\n",
        "\n",
        "for k, v in classmates.items():\n",
        "    print(k + v)"
      ],
      "execution_count": null,
      "outputs": []
    },
    {
      "cell_type": "markdown",
      "metadata": {
        "id": "2YuEErSlrA1w"
      },
      "source": [
        "### Downloading Image from Web"
      ]
    },
    {
      "cell_type": "code",
      "metadata": {
        "id": "79jA51jprFpS"
      },
      "source": [
        "import random\n",
        "import urllib.request #Get data from web\n",
        "\n",
        "def download_web_image(url):\n",
        "    name = random.randrange(1, 1000) # It will download and store image with name from 1 to 1000\n",
        "    full_name = str(name) + \".jpg\"\n",
        "    # url: Url of the website to download images.\n",
        "    # full_name: name of file to save\n",
        "    urllib.request.urlretrieve(url, full_name)\n",
        "\n",
        "download_web_image(\"http://comicsalliance.com/files/2011/08/league00.jpg\")"
      ],
      "execution_count": 10,
      "outputs": []
    },
    {
      "cell_type": "markdown",
      "metadata": {
        "id": "p1T0m7OnrF-9"
      },
      "source": [
        "### Downloading File from the Web"
      ]
    },
    {
      "cell_type": "code",
      "metadata": {
        "id": "EB7zP4WmstMk"
      },
      "source": [
        "from urllib import request # another way to import\n",
        "\n",
        "goog_url = 'http://insight.dev.schoolwires.com/HelpAssets/C2Assets/C2Files/C2ImportFamRelSample.csv'\n",
        "\n",
        "def download_stock_data(csv_url):\n",
        "    response = request.urlopen(csv_url) # Opens the url of web page\n",
        "    csv = response.read()\n",
        "    csv_str = str(csv)\n",
        "    lines = csv_str.split(\"\\\\n\")\n",
        "    dest_url = r'goog.csv'\n",
        "    fx = open(dest_url, \"w\")\n",
        "    for line in lines:\n",
        "        fx.write(line + \"\\n\")\n",
        "    fx.close()\n",
        "\n",
        "download_stock_data(goog_url)"
      ],
      "execution_count": 11,
      "outputs": []
    },
    {
      "cell_type": "markdown",
      "metadata": {
        "id": "6QfVSTuzn1c3"
      },
      "source": [
        "### WEB Crawler"
      ]
    },
    {
      "cell_type": "code",
      "metadata": {
        "id": "9MgLLnsen5aS"
      },
      "source": [
        "import requests\n",
        "# Get everything from web pages like links, images, header etc.\n",
        "from bs4 import BeautifulSoup\n",
        "\n",
        "\n",
        "def trade_spider(max_pages):  # Getting maximum number of pages\n",
        "    # Setting by default page to 1 for crawling\n",
        "    page = 1\n",
        "    # Going through pages one by one until max_pages\n",
        "    while page <= max_pages:\n",
        "        # passing the value of url to be crawled.\n",
        "        url = 'https://thenewboston.com/search.php?type=0&sort=reputation&page==' + str(page)\n",
        "        # Connect to the url through Python and store the result in source_code.\n",
        "        source_code = requests.get(url, allow_redirects=False)\n",
        "        # just get the code and text, no headers or anything\n",
        "        plain_text = source_code.text.encode('ascii', 'replace')\n",
        "        # BeautifulSoup objects can be sorted through easy\n",
        "        soup = BeautifulSoup(plain_text,'html.parser')\n",
        "        for link in soup.findAll('a', {'class': 'user-name'}):\n",
        "            href = link.get('href')\n",
        "            title = link.string  # just the text, not the HTML\n",
        "            print(href)\n",
        "            print(title)\n",
        "            #get_single_item_data(href)\n",
        "        page += 1\n",
        "\n",
        "\n",
        "def get_single_item_data(item_url):\n",
        "    source_code = requests.get(item_url)\n",
        "    plain_text = source_code.text\n",
        "    soup = BeautifulSoup(plain_text,\"lxml\")\n",
        "    # if you want to gather photos from that user\n",
        "    for item_name in soup.findAll('img', {'class': 'img-responsive'}): # all photos of the user\n",
        "        photo='https://thenewboston.com'+item_name.get('src')\n",
        "        print(photo)\n",
        "    # if you want to gather links for a web crawler\n",
        "    for link in soup.findAll('a'):\n",
        "        href = link.get('href')\n",
        "        print(href)\n",
        "\n",
        "\n",
        "trade_spider(3)\n"
      ],
      "execution_count": 1,
      "outputs": []
    },
    {
      "cell_type": "markdown",
      "metadata": {
        "id": "h3m6fkKVn7gj"
      },
      "source": [
        ""
      ]
    },
    {
      "cell_type": "markdown",
      "metadata": {
        "id": "o9Ja7Icmn9V4"
      },
      "source": [
        "### Handling Exception"
      ]
    },
    {
      "cell_type": "code",
      "metadata": {
        "id": "eA3Fd-vhoCvJ",
        "outputId": "6f14566a-2f00-482c-ece0-f848d04d210e",
        "colab": {
          "base_uri": "https://localhost:8080/",
          "height": 89
        }
      },
      "source": [
        "while True:\n",
        "    try:\n",
        "        number = int(input(\"what is you fav number?\\n\"))\n",
        "        print(18/number)\n",
        "        break\n",
        "    except ValueError:\n",
        "        print(\"Make sure enter number\")\n",
        "    except ZeroDivisionError:\n",
        "        print(\"don't pick zero\")\n",
        "    except:\n",
        "        break\n",
        "    finally:\n",
        "        print(\"loop complete\")\n"
      ],
      "execution_count": 2,
      "outputs": [
        {
          "output_type": "stream",
          "text": [
            "what is you fav number?\n",
            "8\n",
            "2.25\n",
            "loop complete\n"
          ],
          "name": "stdout"
        }
      ]
    },
    {
      "cell_type": "markdown",
      "metadata": {
        "id": "SjcMUUOdoS27"
      },
      "source": [
        "### Class and Objects"
      ]
    },
    {
      "cell_type": "code",
      "metadata": {
        "id": "RpwQHn7UoVfI",
        "outputId": "fc4b8028-9092-48a6-b307-0e87b30c2821",
        "colab": {
          "base_uri": "https://localhost:8080/",
          "height": 89
        }
      },
      "source": [
        "class Enemy:\n",
        "    life = 3\n",
        "\n",
        "    def attack(self):\n",
        "        print('ouch')\n",
        "        self.life -= 1\n",
        "\n",
        "    def checkLife(self):\n",
        "        if self.life <= 0:\n",
        "            print('You are dead')\n",
        "        else:\n",
        "            print(\"Life's left: \" + str(self.life))\n",
        "\n",
        "enemy1 = Enemy()  # Created Enemy object\n",
        "enemy2 = Enemy()\n",
        "\n",
        "enemy1.attack()\n",
        "enemy1.attack()\n",
        "enemy1.checkLife()\n",
        "enemy2.checkLife()"
      ],
      "execution_count": 3,
      "outputs": [
        {
          "output_type": "stream",
          "text": [
            "ouch\n",
            "ouch\n",
            "Life's left: 1\n",
            "Life's left: 3\n"
          ],
          "name": "stdout"
        }
      ]
    }
  ]
}