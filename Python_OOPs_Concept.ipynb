{
  "nbformat": 4,
  "nbformat_minor": 0,
  "metadata": {
    "colab": {
      "name": "Python_OOPs_Concept.ipynb",
      "provenance": [],
      "authorship_tag": "ABX9TyP4kDpvoPPsu/5XYPGkWGyu",
      "include_colab_link": true
    },
    "kernelspec": {
      "name": "python3",
      "display_name": "Python 3"
    }
  },
  "cells": [
    {
      "cell_type": "markdown",
      "metadata": {
        "id": "view-in-github",
        "colab_type": "text"
      },
      "source": [
        "<a href=\"https://colab.research.google.com/github/pratyushagnihotri03/Python_Programming/blob/master/Python_OOPs_Concept.ipynb\" target=\"_parent\"><img src=\"https://colab.research.google.com/assets/colab-badge.svg\" alt=\"Open In Colab\"/></a>"
      ]
    },
    {
      "cell_type": "code",
      "metadata": {
        "id": "Thg7nDiFFWq1"
      },
      "source": [
        "class Product:\n",
        "  \n",
        "  def __init__(self):\n",
        "    self.name = 'Iphone'\n",
        "    self.description = 'It is ok'\n",
        "    self.price = 700\n",
        "  \n",
        "  def display(self):\n",
        "    print(self.name)\n",
        "    print(self.description)\n",
        "    print(self.price)\n",
        "\n",
        "p1 = Product()\n",
        "p1.display()"
      ],
      "execution_count": null,
      "outputs": []
    },
    {
      "cell_type": "code",
      "metadata": {
        "id": "tAFlDCKsGeg8"
      },
      "source": [
        "# Use parameterized constructor\n",
        "\n",
        "class Product:\n",
        "  \n",
        "  def __init__(self, name, description, price):\n",
        "    self.name = name\n",
        "    self.description = description\n",
        "    self.price = price\n",
        "  \n",
        "  def display(self):\n",
        "    print(self.name)\n",
        "    print(self.description)\n",
        "    print(self.price)\n",
        "\n",
        "p1 = Product('Google', 'Products Description', 800)\n",
        "p1.display()"
      ],
      "execution_count": null,
      "outputs": []
    },
    {
      "cell_type": "code",
      "metadata": {
        "id": "Ee9t4uIiczis"
      },
      "source": [
        "# Define a instance method\n",
        "\n",
        "class Course:\n",
        "  \n",
        "  def __init__(self, name, ratings, ):\n",
        "    self.name = name\n",
        "    self.ratings = ratings\n",
        "  \n",
        "  def average(self):\n",
        "    numberOfRatings= len(self.ratings)\n",
        "    average = sum(self.ratings)/numberOfRatings\n",
        "    print(\"Average rating for\", self.name, \"is\", average)\n",
        "\n",
        "c1= Course(\"java course\",[1,2,3,4,5])\n",
        "print(c1.name)\n",
        "print(c1.ratings)\n",
        "c1.average()"
      ],
      "execution_count": null,
      "outputs": []
    },
    {
      "cell_type": "code",
      "metadata": {
        "id": "eBg_A3lfdmZq"
      },
      "source": [
        "# Create getter and setter methods\n",
        "class Programmer:\n",
        "\n",
        "  def setName(self, n):\n",
        "    self.name=n\n",
        "\n",
        "  def getName(self):\n",
        "    return self.name\n",
        "\n",
        "  def setSalary(self, sal):\n",
        "    self.salary=sal\n",
        "  \n",
        "  def getSalary(self):\n",
        "    return self.salary\n",
        "\n",
        "  def setTechnologies(self, techs):\n",
        "    self.technologies = techs\n",
        "\n",
        "  def getTechnologies(self):\n",
        "    return self.technologies\n",
        "\n",
        "\n",
        "p1 = Programmer()\n",
        "p1.setName(\"John\")\n",
        "p1.setSalary(\"1000\")\n",
        "p1.setTechnologies([\"java\", \"c++\", \"python\"])\n",
        "\n",
        "print(p1.getName())\n",
        "print(p1.getSalary())\n",
        "print(p1.getTechnologies())"
      ],
      "execution_count": null,
      "outputs": []
    },
    {
      "cell_type": "code",
      "metadata": {
        "id": "KpSBd9m3hY10"
      },
      "source": [
        "# Define static field\n",
        "\n",
        "class Student:\n",
        "\n",
        "  major = \"CSE\"\n",
        "\n",
        "  def __init__(self,rollno,name):\n",
        "    self.rollno=rollno\n",
        "    self.name=name\n",
        "\n",
        "s1=Student(1,\"John\")\n",
        "s2=Student(2,\"Bill\")\n",
        "\n",
        "print(s1.major)\n",
        "print(s2.major)\n",
        "print(s1.name)\n",
        "print(s2.name)\n",
        "print(Student.major)"
      ],
      "execution_count": null,
      "outputs": []
    },
    {
      "cell_type": "markdown",
      "metadata": {
        "id": "SQieJRGSkrg7"
      },
      "source": [
        "### Patient Clinicals Usecase"
      ]
    },
    {
      "cell_type": "code",
      "metadata": {
        "id": "TjqEi3ULkrGT"
      },
      "source": [
        "class Patient:\n",
        "\n",
        "  def __init__(self, name, age):\n",
        "    self.name = name\n",
        "    self.age = age\n",
        "    self.clinical = []\n",
        "\n",
        "  def addClinicalData(self,clinical):\n",
        "    self.clinical.append(clinical)\n",
        "\n",
        "\n",
        "class Clinical: \n",
        "  def __init__(self, componentName, componentValue):\n",
        "    self.componentName = componentName\n",
        "    self.componentValue = componentValue\n",
        "\n",
        "p = Patient('John', 48)\n",
        "c1 = Clinical('bp', '88/120')\n",
        "p.addClinicalData(c1)"
      ],
      "execution_count": 15,
      "outputs": []
    },
    {
      "cell_type": "markdown",
      "metadata": {
        "id": "Dq7Yrkwpocy1"
      },
      "source": [
        "## Encapsulation"
      ]
    },
    {
      "cell_type": "code",
      "metadata": {
        "id": "WTZBanTFogti"
      },
      "source": [
        "class patient :\n",
        "    def setid(self,num):\n",
        "        self.__num=num\n",
        "    def getid(self):\n",
        "        return self.__num\n",
        "\n",
        "    def setname(self, nam):\n",
        "            self.__nam = nam\n",
        "\n",
        "    def getname(self):\n",
        "        return self.__nam\n",
        "\n",
        "    def setssc(self, sc):\n",
        "        self.__sc = sc\n",
        "\n",
        "    def getssc(self):\n",
        "        return self.__sc\n",
        "       \n",
        "cl=patient()\n",
        "cl.setid(22)\n",
        "cl.setname(\"joe\")\n",
        "cl.setssc(5)\n",
        "print(cl.getid())\n",
        "print(cl.getname())\n",
        "print(cl.getssc())"
      ],
      "execution_count": null,
      "outputs": []
    },
    {
      "cell_type": "markdown",
      "metadata": {
        "id": "k1SYSSivqTKH"
      },
      "source": [
        "## Inheritance"
      ]
    },
    {
      "cell_type": "code",
      "metadata": {
        "id": "DYkOSWSpqVgw"
      },
      "source": [
        "class BMW:\n",
        "\n",
        "  def __init__(self, make, model, year):\n",
        "    self.make = make\n",
        "    self.model = model\n",
        "    self.year =  year\n",
        "  \n",
        "  def start(self):\n",
        "    print(\"Starting the car\")\n",
        "  \n",
        "  def stop(self):\n",
        "    print(\"Stopping the car\")\n",
        "\n",
        "class ThreeSeries(BMW):\n",
        "  \n",
        "  def __init__(self, cruiseControlEnabled, make, model, year):\n",
        "    BMW.__init__(self, make, model, year)\n",
        "    self.cruiseControlEnabled = cruiseControlEnabled\n",
        "\n",
        "  def display(self):\n",
        "    print(self.cruiseControlEnabled)\n",
        "\n",
        "  def start(self):\n",
        "    print(\"Button Start\")\n",
        "\n",
        "class FiveSeries(BMW):\n",
        "\n",
        "  def __init__(self, parkingAssistEnabled, make, model, year):\n",
        "    BMW.__init__(self, make, model, year)\n",
        "    self.parkingAssistEnabled = parkingAssistEnabled\n",
        "\n",
        "threeSeries = ThreeSeries(True, \"BMW\", \"328i\", \"2018\")\n",
        "print(threeSeries.cruiseControlEnabled)\n",
        "print(threeSeries.make)\n",
        "print(threeSeries.model)\n",
        "print(threeSeries.year)\n",
        "fiveSeries =  FiveSeries(True, \"BMW\", \"329i\", \"2019\")\n",
        "print(fiveSeries.parkingAssistEnabled)\n",
        "print(fiveSeries.make)\n",
        "print(fiveSeries.model)\n",
        "print(fiveSeries.year)"
      ],
      "execution_count": null,
      "outputs": []
    },
    {
      "cell_type": "markdown",
      "metadata": {
        "id": "yt8uhJnZUhWi"
      },
      "source": [
        "### Polymorphism"
      ]
    },
    {
      "cell_type": "code",
      "metadata": {
        "id": "KFpqO_FIUlZc"
      },
      "source": [
        "class Duck:\n",
        "  def talk(self):\n",
        "    print(\"Quack Quack\")\n",
        "\n",
        "class Human:\n",
        "  def talk(self):\n",
        "    print(\"Hello\")\n",
        "\n",
        "def callTalk(obj):\n",
        "  obj.talk();\n",
        "\n",
        "d=Duck()\n",
        "callTalk(d)\n",
        "\n",
        "h=Human()\n",
        "callTalk(h)"
      ],
      "execution_count": null,
      "outputs": []
    },
    {
      "cell_type": "code",
      "metadata": {
        "id": "uGd60extVYux"
      },
      "source": [
        "# Duck Typing for dependency Injection\n",
        "class Flight:\n",
        "  def __init__(self, engine):\n",
        "    self.engine=engine\n",
        "\n",
        "  def startEngine(self):\n",
        "    self.engine.start()\n",
        "\n",
        "class AirbusEngine:\n",
        "  def start(self):\n",
        "    print(\"Starting Airbus Engine\")\n",
        "\n",
        "class BoingEngine:\n",
        "    def start(self):\n",
        "      print(\"Starting Boing Engine\")\n",
        "\n",
        "ae = AirbusEngine()\n",
        "f = Flight(ae)\n",
        "f.startEngine()\n",
        "\n",
        "be = BoingEngine()\n",
        "f1 = Flight(be)\n",
        "f1.startEngine()"
      ],
      "execution_count": null,
      "outputs": []
    }
  ]
}