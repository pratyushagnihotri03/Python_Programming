{
  "nbformat": 4,
  "nbformat_minor": 0,
  "metadata": {
    "colab": {
      "name": "Python_Numpy.ipynb",
      "provenance": [],
      "authorship_tag": "ABX9TyOo+nFHwOBV2vOsWmkYdp00",
      "include_colab_link": true
    },
    "kernelspec": {
      "name": "python3",
      "display_name": "Python 3"
    }
  },
  "cells": [
    {
      "cell_type": "markdown",
      "metadata": {
        "id": "view-in-github",
        "colab_type": "text"
      },
      "source": [
        "<a href=\"https://colab.research.google.com/github/pratyushagnihotri03/Python_Programming/blob/master/Python_Numpy.ipynb\" target=\"_parent\"><img src=\"https://colab.research.google.com/assets/colab-badge.svg\" alt=\"Open In Colab\"/></a>"
      ]
    },
    {
      "cell_type": "code",
      "metadata": {
        "id": "67s844Vv1IeT"
      },
      "source": [
        "from numpy import *\n",
        "\n",
        "arr = array([1,2,3,4,5])\n",
        "carr = array(['a','b','c'])\n",
        "sarr = array(['python','java','rest'])\n",
        "\n",
        "print(arr)\n",
        "print(carr)\n",
        "print(sarr)"
      ],
      "execution_count": null,
      "outputs": []
    },
    {
      "cell_type": "code",
      "metadata": {
        "id": "wqJvDwnA2Mnr"
      },
      "source": [
        "print(linspace(0,100,50))"
      ],
      "execution_count": null,
      "outputs": []
    },
    {
      "cell_type": "code",
      "metadata": {
        "id": "pGtrgqHE2YJ2"
      },
      "source": [
        "print(logspace(1,20))"
      ],
      "execution_count": null,
      "outputs": []
    },
    {
      "cell_type": "code",
      "metadata": {
        "id": "pSKlu2sp2mbY"
      },
      "source": [
        "print(arange(1,5))\n",
        "print(arange(5,1,-1))"
      ],
      "execution_count": null,
      "outputs": []
    },
    {
      "cell_type": "code",
      "metadata": {
        "id": "olO1ST2z27Yt"
      },
      "source": [
        "print(zeros(10))\n",
        "print(ones(10))"
      ],
      "execution_count": null,
      "outputs": []
    },
    {
      "cell_type": "code",
      "metadata": {
        "id": "9ALNnlfe3P9Z"
      },
      "source": [
        "# mathmatical functions\n",
        "\n",
        "a1 = array([1,2,3,4])\n",
        "a2 = array([10,11,12,13])\n",
        "\n",
        "print(a1+a2)\n",
        "print(a1-2)\n",
        "print(sin(a1))\n",
        "print(mean(a1))\n",
        "print(abs(a1))\n",
        "print(min(a1))\n",
        "print(sum(a2))"
      ],
      "execution_count": null,
      "outputs": []
    },
    {
      "cell_type": "code",
      "metadata": {
        "id": "lRy9ICN132un"
      },
      "source": [
        "# array comparison\n",
        "\n",
        "a1 = ([10,30,50,70,100])\n",
        "a2 = ([20,40,60,80,100])\n",
        "\n",
        "print(a1 >= a2)\n",
        "print(a1 < a2)\n",
        "\n",
        "print(all(a1 <= a2))\n",
        "print(any(a1 <= a2))\n",
        "\n",
        "print(logical_or(a1<10, a1<101))\n",
        "\n",
        "print(where(a1%2!=0,a1,0))\n",
        "print(where(a1<a2,a1,a2))"
      ],
      "execution_count": null,
      "outputs": []
    },
    {
      "cell_type": "code",
      "metadata": {
        "id": "zw_ZCpLN4xnZ"
      },
      "source": [
        "# Copying the array\n",
        "\n",
        "a1 = arange(1,10)\n",
        "a2 = a1.view()\n",
        "\n",
        "print('a1',a1)\n",
        "print('a2',a2)\n",
        "\n",
        "a2[3]=40\n",
        "print('after modification')\n",
        "print('a1',a1)\n",
        "print('a2',a2)"
      ],
      "execution_count": null,
      "outputs": []
    },
    {
      "cell_type": "code",
      "metadata": {
        "id": "bk4bflFS6XBn"
      },
      "source": [
        "a1 = arange(1,10)\n",
        "a2 = a1.copy()\n",
        "\n",
        "print('a1',a1)\n",
        "print('a2',a2)\n",
        "\n",
        "a2[3]=40\n",
        "print('after modification')\n",
        "print('a1',a1)\n",
        "print('a2',a2)"
      ],
      "execution_count": null,
      "outputs": []
    },
    {
      "cell_type": "code",
      "metadata": {
        "id": "HWEuFBqC6ovB"
      },
      "source": [
        "# slicing\n",
        "\n",
        "a1 = arange(1,20)\n",
        "\n",
        "print('a1',a1)\n",
        "print(a1[3:7])\n",
        "print(a1[1:9:2])\n",
        "print(a1[4])"
      ],
      "execution_count": null,
      "outputs": []
    },
    {
      "cell_type": "code",
      "metadata": {
        "id": "A1WZqHci7SFL"
      },
      "source": [
        "# Multidimensional array\n",
        "\n",
        "a1 = array([1,2,3,4,5,6])\n",
        "a2 = array([[1,2,3],[4,5,6]])\n",
        "a3 = array([[[1,2,3],[3,4,5]],[[7,8,9],[1,2,3]]])\n",
        "\n",
        "print(a1)\n",
        "print(a2)\n",
        "print(a3)\n",
        "\n",
        "print(a1.ndim)\n",
        "print(a2.ndim)\n",
        "print(a3.ndim)\n",
        "\n",
        "print(a1.shape)\n",
        "print(a2.shape)\n",
        "print(a3.shape)\n",
        "\n",
        "print(a1.size)\n",
        "print(a2.size)\n",
        "print(a3.size)\n",
        "\n",
        "print(a1.itemsize)\n",
        "print(a2.itemsize)\n",
        "print(a3.itemsize)\n",
        "\n",
        "print(a1.dtype)\n",
        "print(a2.dtype)\n",
        "print(a3.dtype)\n",
        "\n",
        "print(a1.nbytes)\n",
        "print(a2.nbytes)\n",
        "print(a3.nbytes)\n"
      ],
      "execution_count": null,
      "outputs": []
    },
    {
      "cell_type": "code",
      "metadata": {
        "id": "Oz4Y6cYm84uf",
        "outputId": "a0a548ac-81e2-494d-92ee-ce703838cb75",
        "colab": {
          "base_uri": "https://localhost:8080/",
          "height": 286
        }
      },
      "source": [
        "a1 = arange(12)\n",
        "print('a1',a1)\n",
        "\n",
        "a2 = reshape(a1,(4,3))\n",
        "print('a2',a2)\n",
        "\n",
        "a3 = reshape(a1,(2,2,3))\n",
        "print('a3',a3)\n",
        "\n",
        "print('a3',a3.flatten())\n",
        "\n",
        "print(eye(3))"
      ],
      "execution_count": 30,
      "outputs": [
        {
          "output_type": "stream",
          "text": [
            "a1 [ 0  1  2  3  4  5  6  7  8  9 10 11]\n",
            "a2 [[ 0  1  2]\n",
            " [ 3  4  5]\n",
            " [ 6  7  8]\n",
            " [ 9 10 11]]\n",
            "a3 [[[ 0  1  2]\n",
            "  [ 3  4  5]]\n",
            "\n",
            " [[ 6  7  8]\n",
            "  [ 9 10 11]]]\n",
            "a3 [ 0  1  2  3  4  5  6  7  8  9 10 11]\n",
            "[[1. 0. 0.]\n",
            " [0. 1. 0.]\n",
            " [0. 0. 1.]]\n"
          ],
          "name": "stdout"
        }
      ]
    }
  ]
}