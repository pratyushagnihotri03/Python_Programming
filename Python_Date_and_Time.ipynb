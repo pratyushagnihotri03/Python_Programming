{
  "nbformat": 4,
  "nbformat_minor": 0,
  "metadata": {
    "colab": {
      "name": "Python_Date_and_Time.ipynb",
      "provenance": [],
      "authorship_tag": "ABX9TyOMNoakFJck+GU+kzX14t4n",
      "include_colab_link": true
    },
    "kernelspec": {
      "name": "python3",
      "display_name": "Python 3"
    }
  },
  "cells": [
    {
      "cell_type": "markdown",
      "metadata": {
        "id": "view-in-github",
        "colab_type": "text"
      },
      "source": [
        "<a href=\"https://colab.research.google.com/github/pratyushagnihotri03/Python_Programming/blob/master/Python_Date_and_Time.ipynb\" target=\"_parent\"><img src=\"https://colab.research.google.com/assets/colab-badge.svg\" alt=\"Open In Colab\"/></a>"
      ]
    },
    {
      "cell_type": "markdown",
      "metadata": {
        "id": "9cLFiQV3tLYt"
      },
      "source": [
        "### Time since epoch"
      ]
    },
    {
      "cell_type": "code",
      "metadata": {
        "id": "tgI5BOqyse6f",
        "outputId": "9ee3af34-98ab-43c2-98f7-82e9937e3d04",
        "colab": {
          "base_uri": "https://localhost:8080/",
          "height": 55
        }
      },
      "source": [
        "import time\n",
        "epochseconds = time.time()\n",
        "print(epochseconds)\n",
        "\n",
        "t = time.ctime(epochseconds)\n",
        "print(t)"
      ],
      "execution_count": 2,
      "outputs": [
        {
          "output_type": "stream",
          "text": [
            "1603376951.6283\n",
            "Thu Oct 22 14:29:11 2020\n"
          ],
          "name": "stdout"
        }
      ]
    },
    {
      "cell_type": "markdown",
      "metadata": {
        "id": "jtzKjHkAuIxV"
      },
      "source": [
        "### Finding current date and time"
      ]
    },
    {
      "cell_type": "code",
      "metadata": {
        "id": "YUdEmd59uLs_",
        "outputId": "c7fc6041-8be4-4312-f134-1ed646fab970",
        "colab": {
          "base_uri": "https://localhost:8080/",
          "height": 94
        }
      },
      "source": [
        "import datetime\n",
        "\n",
        "dt = datetime.datetime.today()\n",
        "print('Current Date:', dt.day, dt.month, dt.year)\n",
        "print('Current Time:', dt.hour, dt.minute, dt.second)\n",
        "\n",
        "# formating date and time\n",
        "print('Current Date: {}/{}/{}'.format(dt.day, dt.month, dt.year))\n",
        "print('Current Time:{}:{}:{}'.format(dt.hour, dt.minute, dt.second))"
      ],
      "execution_count": 6,
      "outputs": [
        {
          "output_type": "stream",
          "text": [
            "Current Date: 22 10 2020\n",
            "Current Time: 14 34 26\n",
            "Current Date: 22/10/2020\n",
            "Current Time:14:34:26\n"
          ],
          "name": "stdout"
        }
      ]
    },
    {
      "cell_type": "markdown",
      "metadata": {
        "id": "ear7dR0WvO2r"
      },
      "source": [
        "### Combining and sorting date and time"
      ]
    },
    {
      "cell_type": "code",
      "metadata": {
        "id": "6N-PX1nTvSef"
      },
      "source": [
        "from datetime import *\n",
        "\n",
        "d = date(2018,7,21)\n",
        "t= time(12, 45)\n",
        "\n",
        "dt = datetime.combine(d,t)\n",
        "print(dt)"
      ],
      "execution_count": null,
      "outputs": []
    },
    {
      "cell_type": "code",
      "metadata": {
        "id": "JfbMuNjNyX69"
      },
      "source": [
        "from datetime import *\n",
        "\n",
        "ldates = []\n",
        "\n",
        "d1 = date(2016,8,12)\n",
        "d2 = date(2016,7,12)\n",
        "d3 = date(2018,8,12)\n",
        "\n",
        "ldates.append(d1)\n",
        "ldates.append(d2)\n",
        "ldates.append(d3)\n",
        "\n",
        "ldates.sort()\n",
        "\n",
        "for d in ldates:\n",
        "  print(d)"
      ],
      "execution_count": null,
      "outputs": []
    },
    {
      "cell_type": "markdown",
      "metadata": {
        "id": "9PKWe5xbzZvU"
      },
      "source": [
        "### Sleep()"
      ]
    },
    {
      "cell_type": "code",
      "metadata": {
        "id": "QGhsuIC3zb72"
      },
      "source": [
        "from datetime import date\n",
        "import time\n",
        "\n",
        "ldates = []\n",
        "\n",
        "d1 = date(2016,8,12)\n",
        "d2 = date(2016,7,12)\n",
        "d3 = date(2018,8,12)\n",
        "\n",
        "ldates.append(d1)\n",
        "ldates.append(d2)\n",
        "ldates.append(d3)\n",
        "\n",
        "ldates.sort()\n",
        "\n",
        "time.sleep(3)\n",
        "\n",
        "for d in ldates:\n",
        "  print(d)"
      ],
      "execution_count": null,
      "outputs": []
    },
    {
      "cell_type": "markdown",
      "metadata": {
        "id": "dM8TC-SfztqM"
      },
      "source": [
        "### Knowing the execution time of a program"
      ]
    },
    {
      "cell_type": "code",
      "metadata": {
        "id": "5hooR8UgzyHf"
      },
      "source": [
        "from datetime import date\n",
        "import time\n",
        "\n",
        "startTime =  time.perf_counter()\n",
        "\n",
        "ldates = []\n",
        "\n",
        "d1 = date(2016,8,12)\n",
        "d2 = date(2016,7,12)\n",
        "d3 = date(2018,8,12)\n",
        "\n",
        "ldates.append(d1)\n",
        "ldates.append(d2)\n",
        "ldates.append(d3)\n",
        "\n",
        "ldates.sort()\n",
        "\n",
        "time.sleep(3)\n",
        "\n",
        "for d in ldates:\n",
        "  print(d)\n",
        "\n",
        "endTime = time.perf_counter()\n",
        "print(\"Execution Time\", endTime-startTime)"
      ],
      "execution_count": null,
      "outputs": []
    },
    {
      "cell_type": "markdown",
      "metadata": {
        "id": "uzi1fMly0R0f"
      },
      "source": [
        "### Validate Credit Card Usecase"
      ]
    },
    {
      "cell_type": "code",
      "metadata": {
        "id": "0hzrqrKS0Vus"
      },
      "source": [
        "from datetime import *\n",
        "\n",
        "def validateCard(expDate):\n",
        "  if expDate > datetime.now().date():\n",
        "    print('valid')\n",
        "  else:\n",
        "    print('expired')\n",
        "\n",
        "validateCard(date(2020, 12,2))"
      ],
      "execution_count": null,
      "outputs": []
    },
    {
      "cell_type": "markdown",
      "metadata": {
        "id": "aRZKjNxQ07Bx"
      },
      "source": [
        "### Project Management Usecase"
      ]
    },
    {
      "cell_type": "code",
      "metadata": {
        "id": "EbggvhnU0-XK"
      },
      "source": [
        "from datetime import *\n",
        "\n",
        "class Project:\n",
        "  def __init__(self, name, startDate, endDate):\n",
        "    self.name = name\n",
        "    self.startDate = startDate\n",
        "    self.endDate = endDate\n",
        "    self.tasks = []\n",
        "\n",
        "  def addTask(self, task):\n",
        "    self.tasks.append(task)\n",
        "\n",
        "class Task:\n",
        "  def __init__(self, name, duration):\n",
        "    self.name = name\n",
        "    self.duration = duration\n",
        "    self.resources = []\n",
        "\n",
        "  def addResource(self, resource):\n",
        "    self.resources.append(resource)\n",
        "\n",
        "class Resource:\n",
        "  def __init__(self, name, skill):\n",
        "    self.name = name\n",
        "    self.skill = skill\n",
        "\n",
        "project = Project(\"AI\", date(2021, 1, 1), date(2022, 1, 1))\n",
        "task = Task (\"create bot\", 98)\n",
        "resource = Resource(\"john\", \"Python\")\n",
        "task.addResource(resource)\n",
        "project.addTask(task)\n",
        "\n",
        "for eachTask in project.tasks:\n",
        "  print(eachTask.name)\n",
        "  for eachResource in eachTask.resources:\n",
        "    print(eachResource.name)\n",
        "    print(eachResource.skill)"
      ],
      "execution_count": null,
      "outputs": []
    },
    {
      "cell_type": "markdown",
      "metadata": {
        "id": "-z2MSlKE8rtG"
      },
      "source": [
        "### Event Planning Usecase"
      ]
    },
    {
      "cell_type": "code",
      "metadata": {
        "id": "TR1XFQmv8uIs"
      },
      "source": [
        "from datetime import *\n",
        "\n",
        "class Event:\n",
        "\n",
        "    def __init__ (self, startTime, endTime):\n",
        "        self.startTime = startTime\n",
        "        self.endTime = endTime\n",
        "        self.venue = []\n",
        "\n",
        "    def addVenue (self,venue):\n",
        "        self.venue.append(venue)\n",
        "\n",
        "class Venue:\n",
        "\n",
        "    def __init__(self, name):\n",
        "        self.name = name\n",
        "        self.address = []\n",
        "\n",
        "    def addAddress (self,address):\n",
        "        self.address.append(address)\n",
        "\n",
        "\n",
        "\n",
        "class Address:\n",
        "\n",
        "    def __init__ (self,street, city, state, country):\n",
        "        self.street = street\n",
        "        self.city =city\n",
        "        self.state =state\n",
        "        self.country = country\n",
        "\n",
        "\n",
        "\n",
        "event = Event(date(2020,10,15), date(2020,10,16))\n",
        "venue = Venue(\"PythonTutorial\")\n",
        "address = Address(\"10th Street\", \"Tirupati\", \"Andhra Pradesh\", \"India\")\n",
        "\n",
        "event.addVenue(venue)\n",
        "venue.addAddress(address)\n",
        "\n",
        "print(\"Event Start Date : {} \\tEnd Date : {}\".format(event.startTime, event.endTime))\n",
        "\n",
        "for venue in event.venue:\n",
        "    print(\"Name of Event: {}\".format(venue.name))\n",
        "    for address in venue.address:\n",
        "        print(\"Address: {}, \\n\\t {}, \\n\\t {}\".format(address.street, address.city, address.state, address.country))"
      ],
      "execution_count": null,
      "outputs": []
    }
  ]
}