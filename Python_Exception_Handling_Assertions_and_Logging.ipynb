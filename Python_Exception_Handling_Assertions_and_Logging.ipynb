{
  "nbformat": 4,
  "nbformat_minor": 0,
  "metadata": {
    "colab": {
      "name": "Python_Exception_Handling_Assertions_and_Logging.ipynb",
      "provenance": [],
      "authorship_tag": "ABX9TyMrp3CCzHqSh1rBpBZ8wul/",
      "include_colab_link": true
    },
    "kernelspec": {
      "name": "python3",
      "display_name": "Python 3"
    }
  },
  "cells": [
    {
      "cell_type": "markdown",
      "metadata": {
        "id": "view-in-github",
        "colab_type": "text"
      },
      "source": [
        "<a href=\"https://colab.research.google.com/github/pratyushagnihotri03/Python_Programming/blob/master/Python_Exception_Handling_Assertions_and_Logging.ipynb\" target=\"_parent\"><img src=\"https://colab.research.google.com/assets/colab-badge.svg\" alt=\"Open In Colab\"/></a>"
      ]
    },
    {
      "cell_type": "markdown",
      "metadata": {
        "id": "jMHHdzI-w8a1"
      },
      "source": [
        "### Handling Exception"
      ]
    },
    {
      "cell_type": "code",
      "metadata": {
        "id": "OL7au0hFt7m6"
      },
      "source": [
        "try:\n",
        "  a,b = [int(x) for x in input(\"Enter two numbers:\").split()]\n",
        "  c = a/b\n",
        "  print(c)\n",
        "except ZeroDivisionError:\n",
        "  print(\"Division by zero is not allowed\")\n",
        "  print(\"Please enter a non zero number\")\n",
        "print(\"Code after exception\")"
      ],
      "execution_count": null,
      "outputs": []
    },
    {
      "cell_type": "markdown",
      "metadata": {
        "id": "GybSvstU0C59"
      },
      "source": [
        "### Final and Else"
      ]
    },
    {
      "cell_type": "code",
      "metadata": {
        "id": "ojrlmC0q0Ff2"
      },
      "source": [
        "try:\n",
        "  f = open(\"myfile\",\"w\")\n",
        "  a,b = [int(x) for x in input(\"Enter two numbers:\").split()]\n",
        "  c = a/b\n",
        "  print(c)\n",
        "  f.write(\"Write %d into file\" %c)\n",
        "except ZeroDivisionError:\n",
        "  print(\"Division by zero is not allowed\")\n",
        "  print(\"Please enter a non zero number\")\n",
        "else: \n",
        "  print(\"You have entered a non zero number\")\n",
        "finally:\n",
        "  f.close()\n",
        "  print(\"file closed\")\n",
        "print(\"Code after exception\")"
      ],
      "execution_count": null,
      "outputs": []
    },
    {
      "cell_type": "markdown",
      "metadata": {
        "id": "M3EhBpXLAqlp"
      },
      "source": [
        "### Logging"
      ]
    },
    {
      "cell_type": "code",
      "metadata": {
        "id": "BaidSPXjA1Tk"
      },
      "source": [
        "import logging\n",
        "\n",
        "logging.error(\"error\")\n",
        "logging.critical(\"critical\")\n",
        "logging.warn(\"warning\")\n",
        "logging.debug(\"debug\")\n",
        "logging.info(\"info\")"
      ],
      "execution_count": null,
      "outputs": []
    },
    {
      "cell_type": "code",
      "metadata": {
        "id": "iZV_yz6IF9S1",
        "outputId": "b78ec15b-155a-4b5a-9928-96b27ddad26b",
        "colab": {
          "base_uri": "https://localhost:8080/",
          "height": 55
        }
      },
      "source": [
        "# Logging configuation\n",
        "import logging\n",
        "\n",
        "logging.basicConfig(filename=\"mylog.log\", level=logging.ERROR)\n",
        "logging.error(\"error\")\n",
        "logging.critical(\"critical\")\n",
        "logging.warn(\"warning\")\n",
        "logging.debug(\"debug\")\n",
        "logging.info(\"info\")"
      ],
      "execution_count": 6,
      "outputs": [
        {
          "output_type": "stream",
          "text": [
            "/usr/local/lib/python3.6/dist-packages/ipykernel_launcher.py:7: DeprecationWarning: The 'warn' function is deprecated, use 'warning' instead\n",
            "  import sys\n"
          ],
          "name": "stderr"
        }
      ]
    },
    {
      "cell_type": "markdown",
      "metadata": {
        "id": "dBcsfG0-KkKx"
      },
      "source": [
        "### Example Exception handling"
      ]
    },
    {
      "cell_type": "code",
      "metadata": {
        "id": "CYwPyO2gKoRJ"
      },
      "source": [
        "class OverLimit(Exception) :\n",
        "\n",
        "     def __init__(self,msg) :\n",
        "          self.msg = msg\n",
        "\n",
        "def password(pswd) :\n",
        "\n",
        "     if(len(pswd)>8) :\n",
        "         raise OverLimit(\"password length must be 8 characters\")\n",
        "\n",
        "pswd = input(\"Enter your password:\")\n",
        "password(pswd)"
      ],
      "execution_count": null,
      "outputs": []
    }
  ]
}