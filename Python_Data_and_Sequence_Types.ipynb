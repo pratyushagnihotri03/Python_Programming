{
  "nbformat": 4,
  "nbformat_minor": 0,
  "metadata": {
    "colab": {
      "name": "Python_Data_and_Sequence_Types.ipynb",
      "provenance": [],
      "authorship_tag": "ABX9TyMFu3W0Btng9k2WRBor3TNg",
      "include_colab_link": true
    },
    "kernelspec": {
      "name": "python3",
      "display_name": "Python 3"
    }
  },
  "cells": [
    {
      "cell_type": "markdown",
      "metadata": {
        "id": "view-in-github",
        "colab_type": "text"
      },
      "source": [
        "<a href=\"https://colab.research.google.com/github/pratyushagnihotri03/Python_Programming/blob/master/Python_Data_and_Sequence_Types.ipynb\" target=\"_parent\"><img src=\"https://colab.research.google.com/assets/colab-badge.svg\" alt=\"Open In Colab\"/></a>"
      ]
    },
    {
      "cell_type": "markdown",
      "metadata": {
        "id": "gzyLhKRQiWYq"
      },
      "source": [
        "### Data Types"
      ]
    },
    {
      "cell_type": "code",
      "metadata": {
        "id": "Atu4ea8WiFLR"
      },
      "source": [
        "# Numeric Types\n",
        "a = 10\n",
        "b =  100\n",
        "c = -66\n",
        "print(a, b, c)\n",
        "print(type(a), type(b), type(c))\n",
        "\n",
        "x = 33.5\n",
        "y = -25.8\n",
        "z = 205.0\n",
        "\n",
        "print(x, y, z)\n",
        "print(type(x), type(y), type(z))\n",
        "\n",
        "# Complex, binary and hexadecimal type\n",
        "\n",
        "d = 3+5j\n",
        "print(d)\n",
        "print(type(d))\n",
        "\n",
        "e=0B1010\n",
        "print(e)\n",
        "print(type(e))\n",
        "\n",
        "f=0XFF\n",
        "print(f)\n",
        "print(type(f))\n",
        "\n",
        "g=True\n",
        "print(g)\n",
        "print(type(g))\n",
        "print(9<8)\n",
        "\n",
        "h=int(x)\n",
        "print(h)\n",
        "print(type(h))\n",
        "\n",
        "i=float(\"22.5\")\n",
        "print(i)\n",
        "print(type(i))\n",
        "print(bin(10))\n",
        "print(hex(10))"
      ],
      "execution_count": null,
      "outputs": []
    },
    {
      "cell_type": "markdown",
      "metadata": {
        "id": "m7kqsjLnirtc"
      },
      "source": [
        "### Sequence Types"
      ]
    },
    {
      "cell_type": "code",
      "metadata": {
        "id": "ngu5fIARi7Et"
      },
      "source": [
        "# Numeric Types\n",
        "a = 10\n",
        "b =  100\n",
        "c = -66\n",
        "print(a, b, c)\n",
        "print(type(a), type(b), type(c))\n",
        "\n",
        "x = 33.5\n",
        "y = -25.8\n",
        "z = 205.0\n",
        "\n",
        "print(x, y, z)\n",
        "print(type(x), type(y), type(z))\n",
        "\n",
        "# Complex, binary and hexadecimal type\n",
        "\n",
        "d = 3+5j\n",
        "print(d)\n",
        "print(type(d))\n",
        "\n",
        "e=0B1010\n",
        "print(e)\n",
        "print(type(e))\n",
        "\n",
        "f=0XFF\n",
        "print(f)\n",
        "print(type(f))\n",
        "\n",
        "g=True\n",
        "print(g)\n",
        "print(type(g))\n",
        "print(9<8)\n",
        "\n",
        "h=int(x)\n",
        "print(h)\n",
        "print(type(h))\n",
        "\n",
        "i=float(\"22.5\")\n",
        "print(i)\n",
        "print(type(i))\n",
        "print(bin(10))\n",
        "print(hex(10))"
      ],
      "execution_count": null,
      "outputs": []
    },
    {
      "cell_type": "markdown",
      "metadata": {
        "id": "9oyK1hQLjCwe"
      },
      "source": [
        "### List Type"
      ]
    },
    {
      "cell_type": "code",
      "metadata": {
        "id": "f57jHnXxjDWt",
        "outputId": "aa129a56-2d6d-4199-d7af-754d39d7a6b4",
        "colab": {
          "base_uri": "https://localhost:8080/",
          "height": 359
        }
      },
      "source": [
        "# Numeric Types\n",
        "a = 10\n",
        "b =  100\n",
        "c = -66\n",
        "print(a, b, c)\n",
        "print(type(a), type(b), type(c))\n",
        "\n",
        "x = 33.5\n",
        "y = -25.8\n",
        "z = 205.0\n",
        "\n",
        "print(x, y, z)\n",
        "print(type(x), type(y), type(z))\n",
        "\n",
        "# Complex, binary and hexadecimal type\n",
        "\n",
        "d = 3+5j\n",
        "print(d)\n",
        "print(type(d))\n",
        "\n",
        "e=0B1010\n",
        "print(e)\n",
        "print(type(e))\n",
        "\n",
        "f=0XFF\n",
        "print(f)\n",
        "print(type(f))\n",
        "\n",
        "g=True\n",
        "print(g)\n",
        "print(type(g))\n",
        "print(9<8)\n",
        "\n",
        "h=int(x)\n",
        "print(h)\n",
        "print(type(h))\n",
        "\n",
        "i=float(\"22.5\")\n",
        "print(i)\n",
        "print(type(i))\n",
        "print(bin(10))\n",
        "print(hex(10))"
      ],
      "execution_count": null,
      "outputs": [
        {
          "output_type": "stream",
          "text": [
            "10 100 -66\n",
            "<class 'int'> <class 'int'> <class 'int'>\n",
            "33.5 -25.8 205.0\n",
            "<class 'float'> <class 'float'> <class 'float'>\n",
            "(3+5j)\n",
            "<class 'complex'>\n",
            "10\n",
            "<class 'int'>\n",
            "255\n",
            "<class 'int'>\n",
            "True\n",
            "<class 'bool'>\n",
            "False\n",
            "33\n",
            "<class 'int'>\n",
            "22.5\n",
            "<class 'float'>\n",
            "0b1010\n",
            "0xa\n"
          ],
          "name": "stdout"
        }
      ]
    },
    {
      "cell_type": "markdown",
      "metadata": {
        "id": "n2GjWwyEjVLU"
      },
      "source": [
        "### Tuple Type"
      ]
    },
    {
      "cell_type": "code",
      "metadata": {
        "id": "6h9oqUt4jYJe"
      },
      "source": [
        "tpl=(40, 50, 60, \"xyz\")\n",
        "\n",
        "print(tpl)\n",
        "print(tpl[3])\n",
        "print(tpl*3)\n",
        "print(tpl.count(40))\n",
        "print(tpl.index(\"xyz\"))\n",
        "\n",
        "lst=[67, 34, \"xyz\"]\n",
        "print(type(lst))\n",
        "\n",
        "tpl1=tuple(lst)\n",
        "print(type(tpl1))\n",
        "print(tpl1)"
      ],
      "execution_count": null,
      "outputs": []
    },
    {
      "cell_type": "markdown",
      "metadata": {
        "id": "8lstzicBjhVJ"
      },
      "source": [
        "### Set Type"
      ]
    },
    {
      "cell_type": "code",
      "metadata": {
        "id": "gQodw2o8j2mN"
      },
      "source": [
        "s = {10, 20, 30, \"xyz\"}\n",
        "print(s)\n",
        "print(type(s))"
      ],
      "execution_count": null,
      "outputs": []
    },
    {
      "cell_type": "code",
      "metadata": {
        "id": "lk3CmStkkCnc",
        "outputId": "2e73082e-d558-4f97-b804-68f9fb9b3278",
        "colab": {
          "base_uri": "https://localhost:8080/",
          "height": 35
        }
      },
      "source": [
        "s.update([88,89])\n",
        "print(s)"
      ],
      "execution_count": null,
      "outputs": [
        {
          "output_type": "stream",
          "text": [
            "{'xyz', 10, 20, 88, 89, 30}\n"
          ],
          "name": "stdout"
        }
      ]
    },
    {
      "cell_type": "code",
      "metadata": {
        "id": "b7U0s_zNkNgp",
        "outputId": "621f20cc-737e-45c1-e6d9-4dea08a06428",
        "colab": {
          "base_uri": "https://localhost:8080/",
          "height": 35
        }
      },
      "source": [
        "s.remove(30)\n",
        "print(s)"
      ],
      "execution_count": null,
      "outputs": [
        {
          "output_type": "stream",
          "text": [
            "{'xyz', 10, 20, 88, 89}\n"
          ],
          "name": "stdout"
        }
      ]
    },
    {
      "cell_type": "code",
      "metadata": {
        "id": "_oPQcRQrkqrF"
      },
      "source": [
        "f=frozenset(s)\n",
        "f.remove(20)"
      ],
      "execution_count": null,
      "outputs": []
    },
    {
      "cell_type": "markdown",
      "metadata": {
        "id": "Aq16i_mHlHpl"
      },
      "source": [
        "### Range"
      ]
    },
    {
      "cell_type": "code",
      "metadata": {
        "id": "6XgD5Gg1lGYX"
      },
      "source": [
        "r = range(5)\n",
        "for i in r:\n",
        "  print(i)"
      ],
      "execution_count": null,
      "outputs": []
    },
    {
      "cell_type": "code",
      "metadata": {
        "id": "VcqzLnkgldIS",
        "outputId": "4e9b3e64-9afe-4250-de09-4f980f5a291a",
        "colab": {
          "base_uri": "https://localhost:8080/",
          "height": 107
        }
      },
      "source": [
        "r = range(1,15,3)\n",
        "for i in r:\n",
        "  print(i)"
      ],
      "execution_count": null,
      "outputs": [
        {
          "output_type": "stream",
          "text": [
            "1\n",
            "4\n",
            "7\n",
            "10\n",
            "13\n"
          ],
          "name": "stdout"
        }
      ]
    },
    {
      "cell_type": "markdown",
      "metadata": {
        "id": "QSJiBEohln-b"
      },
      "source": [
        "### Bytes and Byte Arrays"
      ]
    },
    {
      "cell_type": "code",
      "metadata": {
        "id": "lG2Q2m5-lrEK",
        "outputId": "716022e4-2eec-4362-fb09-e7df34cf1aa1",
        "colab": {
          "base_uri": "https://localhost:8080/",
          "height": 53
        }
      },
      "source": [
        "lst = [20, 30, 40, 234]\n",
        "print(type(lst))\n",
        "b=bytes(lst)\n",
        "print(type(b))\n"
      ],
      "execution_count": null,
      "outputs": [
        {
          "output_type": "stream",
          "text": [
            "<class 'list'>\n",
            "<class 'bytes'>\n"
          ],
          "name": "stdout"
        }
      ]
    },
    {
      "cell_type": "code",
      "metadata": {
        "id": "Eki0Wr_ImEeh",
        "outputId": "28905704-6380-4e26-9fef-3dde101b1c88",
        "colab": {
          "base_uri": "https://localhost:8080/",
          "height": 53
        }
      },
      "source": [
        "b1 = bytearray(lst)\n",
        "print(type(b1))\n",
        "b1[2]=33\n",
        "print(b1)"
      ],
      "execution_count": null,
      "outputs": [
        {
          "output_type": "stream",
          "text": [
            "<class 'bytearray'>\n",
            "bytearray(b'\\x14\\x1e!\\xea')\n"
          ],
          "name": "stdout"
        }
      ]
    },
    {
      "cell_type": "markdown",
      "metadata": {
        "id": "JG8xorXE9MIb"
      },
      "source": [
        "### Dictionary"
      ]
    },
    {
      "cell_type": "code",
      "metadata": {
        "id": "e38MqNaZ9PW9",
        "outputId": "ae68953c-8217-4a37-e6fc-8c26c6854fa2",
        "colab": {
          "base_uri": "https://localhost:8080/",
          "height": 197
        }
      },
      "source": [
        "dict1= {\n",
        "    1: \"John\",\n",
        "    2: \"bob\",\n",
        "    3: \"bill\"\n",
        "}\n",
        "print(dict1)\n",
        "\n",
        "print(dict1.items())\n",
        "\n",
        "k=dict1.keys()\n",
        "for i in k:\n",
        "  print(i)\n",
        "\n",
        "v=dict1.values()\n",
        "for i in v:\n",
        "  print(i)\n",
        "\n",
        "print(dict1[3])\n",
        "del dict1[2]\n",
        "print(dict1)"
      ],
      "execution_count": null,
      "outputs": [
        {
          "output_type": "stream",
          "text": [
            "{1: 'John', 2: 'bob', 3: 'bill'}\n",
            "dict_items([(1, 'John'), (2, 'bob'), (3, 'bill')])\n",
            "1\n",
            "2\n",
            "3\n",
            "John\n",
            "bob\n",
            "bill\n",
            "bill\n",
            "{1: 'John', 3: 'bill'}\n"
          ],
          "name": "stdout"
        }
      ]
    },
    {
      "cell_type": "markdown",
      "metadata": {
        "id": "nbxEkdyN-Zf_"
      },
      "source": [
        "### Data Types "
      ]
    },
    {
      "cell_type": "code",
      "metadata": {
        "id": "SAIaK2zuA3iu",
        "outputId": "5f537fb7-bc5c-48bd-a389-14e17a862440",
        "colab": {
          "base_uri": "https://localhost:8080/",
          "height": 71
        }
      },
      "source": [
        "id =  1\n",
        "firstname =  \"John\"\n",
        "lastname = \"Bailey\"\n",
        "ssn =  \"123-45-6789\"\n",
        "hasInsurance = True\n",
        "billingAmount = \"10000\"\n",
        "\n",
        "print(type(billingAmount))\n",
        "\n",
        "billingAmount = float(billingAmount)\n",
        "\n",
        "print(type(billingAmount))\n",
        "\n",
        "print(id, firstname, lastname, ssn, hasInsurance, billingAmount, ssn[7:len(ssn)])"
      ],
      "execution_count": null,
      "outputs": [
        {
          "output_type": "stream",
          "text": [
            "<class 'str'>\n",
            "<class 'float'>\n",
            "1 John Bailey 123-45-6789 True 10000.0 6789\n"
          ],
          "name": "stdout"
        }
      ]
    },
    {
      "cell_type": "markdown",
      "metadata": {
        "id": "KDwMv3jjJu7M"
      },
      "source": [
        "### Map of Lists Usecases"
      ]
    },
    {
      "cell_type": "code",
      "metadata": {
        "id": "KFj7tpBEJyyx",
        "outputId": "7632324d-d8ed-4ed1-ed37-249e6e12f862",
        "colab": {
          "base_uri": "https://localhost:8080/",
          "height": 215
        }
      },
      "source": [
        "students = {\n",
        "    'john':[\n",
        "            'Python',\n",
        "            'Django',\n",
        "            'DRF'\n",
        "    ],\n",
        "    'bob':[\n",
        "           'java',\n",
        "           'spring'\n",
        "    ],\n",
        "    'jim':[\n",
        "           'js',\n",
        "           'node',\n",
        "           'react'\n",
        "    ]\n",
        "}\n",
        "\n",
        "keys = students.keys()\n",
        "for eachKey in keys:\n",
        "  print(\"Course taken by\", eachKey, \"are: \")\n",
        "  for eachCourse in students[eachKey]:\n",
        "    print(eachCourse)"
      ],
      "execution_count": null,
      "outputs": [
        {
          "output_type": "stream",
          "text": [
            "Course taken by john are: \n",
            "Python\n",
            "Django\n",
            "DRF\n",
            "Course taken by bob are: \n",
            "java\n",
            "spring\n",
            "Course taken by jim are: \n",
            "js\n",
            "node\n",
            "react\n"
          ],
          "name": "stdout"
        }
      ]
    },
    {
      "cell_type": "markdown",
      "metadata": {
        "id": "RNMFx6A-NJp6"
      },
      "source": [
        "### Assignment Collection Type\n",
        "#### List of countries\n",
        "\n",
        "\n",
        "*   Add an country at the end\n",
        "*   remove by index\n",
        "* add a country in the middle\n",
        "\n"
      ]
    },
    {
      "cell_type": "code",
      "metadata": {
        "id": "KCPpUA1lNhG7",
        "outputId": "00dbd7b3-d647-461a-e4d2-88187ae66ebb",
        "colab": {
          "base_uri": "https://localhost:8080/",
          "height": 89
        }
      },
      "source": [
        "lstCountries = [\"Germany\", \"india\", \"UK\", \"Spain\", \"Brazil, USA\", \"Australia\"]\n",
        "\n",
        "print(lstCountries)\n",
        "\n",
        "# Add an country at the end\n",
        "lstCountries.append(\"China\")\n",
        "print(lstCountries)\n",
        "\n",
        "# remove by index\n",
        "del(lstCountries[3])\n",
        "print(lstCountries)\n",
        "\n",
        "# add a country in the middle\n",
        "lstCountries.insert(4, \"Portugal\")\n",
        "print(lstCountries)"
      ],
      "execution_count": null,
      "outputs": [
        {
          "output_type": "stream",
          "text": [
            "['Germany', 'india', 'UK', 'Spain', 'Brazil, USA', 'Australia']\n",
            "['Germany', 'india', 'UK', 'Spain', 'Brazil, USA', 'Australia', 'China']\n",
            "['Germany', 'india', 'UK', 'Brazil, USA', 'Australia', 'China']\n",
            "['Germany', 'india', 'UK', 'Brazil, USA', 'Portugal', 'Australia', 'China']\n"
          ],
          "name": "stdout"
        }
      ]
    }
  ]
}