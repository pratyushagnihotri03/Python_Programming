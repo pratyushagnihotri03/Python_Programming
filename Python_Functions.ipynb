{
  "nbformat": 4,
  "nbformat_minor": 0,
  "metadata": {
    "colab": {
      "name": "Python_Functions.ipynb",
      "provenance": [],
      "authorship_tag": "ABX9TyOPWiVfWVgtUQtgXyyZVLGO",
      "include_colab_link": true
    },
    "kernelspec": {
      "name": "python3",
      "display_name": "Python 3"
    }
  },
  "cells": [
    {
      "cell_type": "markdown",
      "metadata": {
        "id": "view-in-github",
        "colab_type": "text"
      },
      "source": [
        "<a href=\"https://colab.research.google.com/github/pratyushagnihotri03/Python_Programming/blob/master/Python_Functions.ipynb\" target=\"_parent\"><img src=\"https://colab.research.google.com/assets/colab-badge.svg\" alt=\"Open In Colab\"/></a>"
      ]
    },
    {
      "cell_type": "markdown",
      "metadata": {
        "id": "L95gtPpwW_ER"
      },
      "source": [
        "### Return value"
      ]
    },
    {
      "cell_type": "code",
      "metadata": {
        "id": "zSsuDdzXVFJM",
        "outputId": "0e629531-dd78-4978-cc91-45eb6e38a9d3",
        "colab": {
          "base_uri": "https://localhost:8080/",
          "height": 55
        }
      },
      "source": [
        "def average(a,b):\n",
        "  print(\"average of two number is\",(a+b)/2)\n",
        "  return (a+b)/2\n",
        "\n",
        "print(average(10,20))"
      ],
      "execution_count": 3,
      "outputs": [
        {
          "output_type": "stream",
          "text": [
            "average of two number is 15.0\n",
            "15.0\n"
          ],
          "name": "stdout"
        }
      ]
    },
    {
      "cell_type": "markdown",
      "metadata": {
        "id": "wbLzZSIkXC9H"
      },
      "source": [
        "### Return Multiple Value"
      ]
    },
    {
      "cell_type": "code",
      "metadata": {
        "id": "jg4tE02CXIs9"
      },
      "source": [
        "def calculator(a,b):\n",
        "  x=a+b\n",
        "  y=a-b\n",
        "  z=a*b\n",
        "  u=a/b\n",
        "  return x,y,z,u\n",
        "\n",
        "i = int(input(\"Enter first value:\"))\n",
        "j = int(input(\"Enter first value:\"))\n",
        "\n",
        "\n",
        "result=calculator(i,j)\n",
        "print(result)\n",
        "\n",
        "for i in result:\n",
        "  print(i)"
      ],
      "execution_count": null,
      "outputs": []
    },
    {
      "cell_type": "markdown",
      "metadata": {
        "id": "toobeVg4ZvMx"
      },
      "source": [
        "### Local and Gloabl variables"
      ]
    },
    {
      "cell_type": "code",
      "metadata": {
        "id": "vPDJZo6-ZyIA"
      },
      "source": [
        "x=123\n",
        "\n",
        "def display():\n",
        "  x=678\n",
        "  print(x)\n",
        "\n",
        "print(x)\n",
        "display()"
      ],
      "execution_count": null,
      "outputs": []
    },
    {
      "cell_type": "code",
      "metadata": {
        "id": "3vQDUKs7aLiJ"
      },
      "source": [
        "#accessing global variable with same name\n",
        "x=123\n",
        "\n",
        "def display():\n",
        "  x=678\n",
        "  print(x)\n",
        "  print(globals()['x'])\n",
        "\n",
        "print(x)\n",
        "display()"
      ],
      "execution_count": null,
      "outputs": []
    },
    {
      "cell_type": "code",
      "metadata": {
        "id": "4T9l-qs9jOFz",
        "outputId": "25178384-3516-498e-9961-ca2fc7ae47f4",
        "colab": {
          "base_uri": "https://localhost:8080/",
          "height": 75
        }
      },
      "source": [
        "# assign function to variable\n",
        "z =  display()\n",
        "print(z)"
      ],
      "execution_count": 11,
      "outputs": [
        {
          "output_type": "stream",
          "text": [
            "678\n",
            "123\n",
            "None\n"
          ],
          "name": "stdout"
        }
      ]
    },
    {
      "cell_type": "markdown",
      "metadata": {
        "id": "zyfquCKljzrC"
      },
      "source": [
        "### Function inside another"
      ]
    },
    {
      "cell_type": "code",
      "metadata": {
        "id": "AGFssgqcj2-k",
        "outputId": "0654eff9-df5e-4100-cb21-a6053031a584",
        "colab": {
          "base_uri": "https://localhost:8080/",
          "height": 36
        }
      },
      "source": [
        "def display(name):\n",
        "  def message():\n",
        "    return \"Hello \"\n",
        "  result =  message()+name\n",
        "  return result\n",
        "  \n",
        "print(display(\"AGNO3\"))"
      ],
      "execution_count": 12,
      "outputs": [
        {
          "output_type": "stream",
          "text": [
            "Hello AGNO3\n"
          ],
          "name": "stdout"
        }
      ]
    },
    {
      "cell_type": "code",
      "metadata": {
        "id": "o99oYp47knlr"
      },
      "source": [
        "# returning function"
      ],
      "execution_count": null,
      "outputs": []
    },
    {
      "cell_type": "code",
      "metadata": {
        "id": "fe5ObOuqlgjg"
      },
      "source": [
        "def display():\n",
        "  def message():\n",
        "    return \"Hello \"\n",
        "  return message\n",
        "\n",
        "fun = display()\n",
        "print(fun())"
      ],
      "execution_count": null,
      "outputs": []
    },
    {
      "cell_type": "markdown",
      "metadata": {
        "id": "zELg60JcmhlI"
      },
      "source": [
        "### Recursion"
      ]
    },
    {
      "cell_type": "code",
      "metadata": {
        "id": "HtAUWqgllkI-"
      },
      "source": [
        "def factorial(n):\n",
        "  if n==0:\n",
        "    result=1\n",
        "  else:\n",
        "    result=n*factorial(n-1)\n",
        "  return result\n",
        "\n",
        "print(factorial(3))"
      ],
      "execution_count": null,
      "outputs": []
    },
    {
      "cell_type": "markdown",
      "metadata": {
        "id": "uaavKz1poK9H"
      },
      "source": [
        "### Keyword Argument"
      ]
    },
    {
      "cell_type": "code",
      "metadata": {
        "id": "9cvfL4osoOqW"
      },
      "source": [
        "def average (a,b):\n",
        "  print(a)\n",
        "  print(b)\n",
        "  return (a+b)/2\n",
        "\n",
        "print(average(b=10,a=20))"
      ],
      "execution_count": null,
      "outputs": []
    },
    {
      "cell_type": "code",
      "metadata": {
        "id": "wjaZs57JowMj",
        "outputId": "d25cfeeb-eced-40ab-e8ca-c38cc993c793",
        "colab": {
          "base_uri": "https://localhost:8080/",
          "height": 75
        }
      },
      "source": [
        "# Default argument\n",
        "\n",
        "def average (a=10,b=20):\n",
        "  print(a)\n",
        "  print(b)\n",
        "  return (a+b)/2\n",
        "\n",
        "print(average(a=30))"
      ],
      "execution_count": 16,
      "outputs": [
        {
          "output_type": "stream",
          "text": [
            "30\n",
            "20\n",
            "25.0\n"
          ],
          "name": "stdout"
        }
      ]
    },
    {
      "cell_type": "markdown",
      "metadata": {
        "id": "9eYKcIG0p4Va"
      },
      "source": [
        "### BMI Usecases"
      ]
    },
    {
      "cell_type": "code",
      "metadata": {
        "id": "Dw_6Opf3p6vR"
      },
      "source": [
        "#bmi = weight in kg7(height*height in meters)\n",
        "def calculateBMI(height, weight=70):\n",
        "  heightMeters = height * 0.4536\n",
        "  bmi =  weight/(heightMeters*heightMeters)\n",
        "  return bmi\n",
        "\n",
        "\n",
        "print(calculateBMI(5.8,70))\n",
        "print(calculateBMI(6.8,70))\n",
        "print(calculateBMI(5.6,70))\n",
        "print(calculateBMI(5.2))"
      ],
      "execution_count": null,
      "outputs": []
    }
  ]
}