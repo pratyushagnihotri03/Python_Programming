{
  "nbformat": 4,
  "nbformat_minor": 0,
  "metadata": {
    "colab": {
      "name": "PYthon_Flow_Control_Statements.ipynb",
      "provenance": [],
      "authorship_tag": "ABX9TyMKuPwmnbUH/2IJhWc9LRbq",
      "include_colab_link": true
    },
    "kernelspec": {
      "name": "python3",
      "display_name": "Python 3"
    }
  },
  "cells": [
    {
      "cell_type": "markdown",
      "metadata": {
        "id": "view-in-github",
        "colab_type": "text"
      },
      "source": [
        "<a href=\"https://colab.research.google.com/github/pratyushagnihotri03/Python_Programming/blob/master/PYthon_Flow_Control_Statements.ipynb\" target=\"_parent\"><img src=\"https://colab.research.google.com/assets/colab-badge.svg\" alt=\"Open In Colab\"/></a>"
      ]
    },
    {
      "cell_type": "markdown",
      "metadata": {
        "id": "bfmj0OdibeOW"
      },
      "source": [
        "### Even or odd Number"
      ]
    },
    {
      "cell_type": "code",
      "metadata": {
        "id": "zgsfsJyta1En",
        "outputId": "85fedccf-9887-4381-b1c7-058472827976",
        "colab": {
          "base_uri": "https://localhost:8080/",
          "height": 55
        }
      },
      "source": [
        "x = int(input(\"Enter a number\"))\n",
        "if x==0:\n",
        "  print(x,\" is zero\")\n",
        "elif x%2 == 0:\n",
        "  print(x,\" is even\")\n",
        "else:\n",
        "  print(x, \" is odd\")"
      ],
      "execution_count": 3,
      "outputs": [
        {
          "output_type": "stream",
          "text": [
            "Enter a number2\n",
            "2  is even\n"
          ],
          "name": "stdout"
        }
      ]
    },
    {
      "cell_type": "markdown",
      "metadata": {
        "id": "36XixXgEhEQk"
      },
      "source": [
        "### IF-ELSE Ladder"
      ]
    },
    {
      "cell_type": "code",
      "metadata": {
        "id": "HcmygUUXhCqj"
      },
      "source": [
        "m = int(input(\"Marks of Math:\"))\n",
        "p = int(input(\"Marks of Physics:\"))\n",
        "c = int(input(\"Marks of Chemestry:\"))\n",
        "\n",
        "if m < 35 or p < 35 or c < 35:\n",
        "  print(\"you are failed!\")\n",
        "else:\n",
        "  print(\"you are passed!\")\n",
        "  average =  (m+p+c)/3\n",
        "  if average <= 59:\n",
        "    print(\"grade: C \", average)\n",
        "  elif average <= 69:\n",
        "    print(\"grade: B\", average)\n",
        "  else:\n",
        "    print(\"grade: A\", average)"
      ],
      "execution_count": null,
      "outputs": []
    },
    {
      "cell_type": "code",
      "metadata": {
        "id": "TPqsaK9MmAQ-"
      },
      "source": [
        "Math = int(input(\"Math: \"))\n",
        "Physics = int(input(\"Physics: \"))\n",
        "Chemistry = int(input(\"Chemistry: \"))\n",
        "\n",
        "average=(Math+Physics+Chemistry)/3\n",
        "\n",
        "print(\"The average is: %d \" % average)\n",
        "\n",
        "if average<35:\n",
        "    print(\"Failed in exam\")\n",
        "\n",
        "elif average<=59:\n",
        "    print(\"The Grade is C\")\n",
        "\n",
        "elif average<=69:\n",
        "    print(\"The Grade is B\")\n",
        "\n",
        "else:\n",
        "    print(\"The Grade is A\")"
      ],
      "execution_count": null,
      "outputs": []
    },
    {
      "cell_type": "code",
      "metadata": {
        "id": "DJCoj_9mmQul"
      },
      "source": [
        "m=float(input(\"Enter the maths marks: \"))\n",
        "p=float(input(\"Enter the Phy marks: \"))\n",
        "c=float(input(\"Enter the Chem marks: \"))\n",
        "\n",
        "if (m >=35 and p >= 35 and c >= 35):\n",
        "\n",
        "    print(\"You are eligible for evaluation\")\n",
        "    average = (m+p+c)//3\n",
        "\n",
        "    if (average <= 59):\n",
        "        print(\"You have got C grade with an average of \",average)\n",
        "\n",
        "    elif (average <= 69):\n",
        "        print(\"You have got B grade with an average of \",average)\n",
        "\n",
        "    else:\n",
        "        print(\"You have got C grade with an average of \",average)\n",
        "\n",
        "else:\n",
        "    print(\"You are not eligible for evaluation\")\n",
        "\n"
      ],
      "execution_count": null,
      "outputs": []
    },
    {
      "cell_type": "markdown",
      "metadata": {
        "id": "fpYpk3auqeP3"
      },
      "source": [
        "### While Loop"
      ]
    },
    {
      "cell_type": "code",
      "metadata": {
        "id": "SMquVvS5qiDK"
      },
      "source": [
        "x=1\n",
        "while(x<=20):\n",
        "  print(x)\n",
        "  x+=1"
      ],
      "execution_count": null,
      "outputs": []
    },
    {
      "cell_type": "markdown",
      "metadata": {
        "id": "kXxhmRrfrDYJ"
      },
      "source": [
        "### Odd numbers between given numbers"
      ]
    },
    {
      "cell_type": "code",
      "metadata": {
        "id": "aWYeGeoqrNuQ"
      },
      "source": [
        "x = int(input(\"Enter min number:\"))\n",
        "y = int(input(\"Enter max number:\"))\n",
        "\n",
        "i=x\n",
        "if i%2 == 0:\n",
        "  i=x+1\n",
        "while i<=y:\n",
        "  print(i)\n",
        "  i+=2"
      ],
      "execution_count": null,
      "outputs": []
    },
    {
      "cell_type": "markdown",
      "metadata": {
        "id": "1EyLrGmCs92u"
      },
      "source": [
        "### For Loop"
      ]
    },
    {
      "cell_type": "code",
      "metadata": {
        "id": "bsyS5yRrs_81"
      },
      "source": [
        "for x in range(50,71,2):\n",
        "  print(x)"
      ],
      "execution_count": null,
      "outputs": []
    },
    {
      "cell_type": "code",
      "metadata": {
        "id": "WLFMFXF4uvhE",
        "outputId": "a2b8238f-3f0c-4de4-e383-dad03830cd10",
        "colab": {
          "base_uri": "https://localhost:8080/",
          "height": 113
        }
      },
      "source": [
        "lst=[1,2,3,4,5]\n",
        "prod=1\n",
        "\n",
        "for i in lst:\n",
        "  prod*=i\n",
        "  print(\"product is:\", prod)"
      ],
      "execution_count": 12,
      "outputs": [
        {
          "output_type": "stream",
          "text": [
            "product is: 1\n",
            "product is: 2\n",
            "product is: 6\n",
            "product is: 24\n",
            "product is: 120\n"
          ],
          "name": "stdout"
        }
      ]
    },
    {
      "cell_type": "markdown",
      "metadata": {
        "id": "aiDnQ95CxG6o"
      },
      "source": [
        "### Multiplication table of a give number"
      ]
    },
    {
      "cell_type": "code",
      "metadata": {
        "id": "BKf988qbxCdn"
      },
      "source": [
        "x=int(input(\"Enter a number of generating a table:\"))\n",
        "\n",
        "for i in range(1,11):\n",
        "  y=x*i\n",
        "  print(x,\"x\",i,\"=\",y)\n"
      ],
      "execution_count": null,
      "outputs": []
    },
    {
      "cell_type": "markdown",
      "metadata": {
        "id": "Tiks7tNaw_8f"
      },
      "source": [
        "### Loop Example"
      ]
    },
    {
      "cell_type": "code",
      "metadata": {
        "id": "VaOVe-vC8n4a"
      },
      "source": [
        "number = int(input(\"Input number: \"))\n",
        "\n",
        "for i in range(number+1):\n",
        "    if i> 100:\n",
        "        break\n",
        "\n",
        "    if i%10 != 0:\n",
        "        print(i)"
      ],
      "execution_count": null,
      "outputs": []
    },
    {
      "cell_type": "markdown",
      "metadata": {
        "id": "Jv4_6C2JD9qr"
      },
      "source": [
        "### Input and Output Functions Example"
      ]
    },
    {
      "cell_type": "code",
      "metadata": {
        "id": "7rkiHz7SEBTd",
        "outputId": "050d8a69-c323-4f2a-d1ac-c22cc9d0e803",
        "colab": {
          "base_uri": "https://localhost:8080/",
          "height": 55
        }
      },
      "source": [
        "n=int(input(\"Enter a number: \"))\n",
        "primeFlag=True\n",
        "for i in range(2,n-1):\n",
        "    if n % i == 0:\n",
        "        primeFlag=False\n",
        "if(primeFlag):\n",
        "    print(\"prime number\")\n",
        "else:\n",
        "    print(\"not a prime number\")"
      ],
      "execution_count": 17,
      "outputs": [
        {
          "output_type": "stream",
          "text": [
            "Enter a number: 23\n",
            "prime number\n"
          ],
          "name": "stdout"
        }
      ]
    }
  ]
}