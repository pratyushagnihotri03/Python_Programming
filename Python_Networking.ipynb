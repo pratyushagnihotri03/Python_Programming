{
  "nbformat": 4,
  "nbformat_minor": 0,
  "metadata": {
    "colab": {
      "name": "Python_Networking.ipynb",
      "provenance": [],
      "authorship_tag": "ABX9TyPV+g5QthCokKfxuNAcgeMr",
      "include_colab_link": true
    },
    "kernelspec": {
      "name": "python3",
      "display_name": "Python 3"
    }
  },
  "cells": [
    {
      "cell_type": "markdown",
      "metadata": {
        "id": "view-in-github",
        "colab_type": "text"
      },
      "source": [
        "<a href=\"https://colab.research.google.com/github/pratyushagnihotri03/Python_Programming/blob/master/Python_Networking.ipynb\" target=\"_parent\"><img src=\"https://colab.research.google.com/assets/colab-badge.svg\" alt=\"Open In Colab\"/></a>"
      ]
    },
    {
      "cell_type": "markdown",
      "metadata": {
        "id": "LjxFsPewYpBE"
      },
      "source": [
        "### Downloading a HTML"
      ]
    },
    {
      "cell_type": "code",
      "metadata": {
        "id": "Pz4cwN6GYS0w",
        "outputId": "ba8f0f47-8d58-4e9c-f340-509656edaece",
        "colab": {
          "base_uri": "https://localhost:8080/",
          "height": 36
        }
      },
      "source": [
        "import urllib.request\n",
        "\n",
        "try:\n",
        "  url = urllib.request.urlopen(\"https://www.python.org/\")\n",
        "  content = url.read()\n",
        "  url.close()\n",
        "except urllib.error.HTTPError:\n",
        "  print(\"The web page is not found\")\n",
        "  exit()\n",
        "\n",
        "f= open('python.html','wb')\n",
        "f.write(content)\n",
        "f.close"
      ],
      "execution_count": null,
      "outputs": [
        {
          "output_type": "execute_result",
          "data": {
            "text/plain": [
              "<function BufferedWriter.close>"
            ]
          },
          "metadata": {
            "tags": []
          },
          "execution_count": 1
        }
      ]
    },
    {
      "cell_type": "markdown",
      "metadata": {
        "id": "FrVS0RqgZpxx"
      },
      "source": [
        "### Downloading a image"
      ]
    },
    {
      "cell_type": "code",
      "metadata": {
        "id": "Y1H4TzECZsBF",
        "outputId": "9edf11a3-cf77-45d4-bdca-58e2a0b0a0d4",
        "colab": {
          "base_uri": "https://localhost:8080/",
          "height": 36
        }
      },
      "source": [
        "import urllib.request\n",
        "\n",
        "url = \"https://www.python.org/static/img/python-logo.png\"\n",
        "\n",
        "urllib.request.urlretrieve(url,\"python.png\")"
      ],
      "execution_count": null,
      "outputs": [
        {
          "output_type": "execute_result",
          "data": {
            "text/plain": [
              "('python.png', <http.client.HTTPMessage at 0x7f230f100ef0>)"
            ]
          },
          "metadata": {
            "tags": []
          },
          "execution_count": 2
        }
      ]
    },
    {
      "cell_type": "markdown",
      "metadata": {
        "id": "bNEobgiYbUdc"
      },
      "source": [
        "### Socket Programming"
      ]
    },
    {
      "cell_type": "code",
      "metadata": {
        "id": "0FWPj6OkbYY5"
      },
      "source": [
        "# Create a server\n",
        "\n",
        "import socket\n",
        "\n",
        "host = 'localhost'\n",
        "port=4000\n",
        "\n",
        "s = socket.socket(socket.AF_INET,socket.SOCK_STREAM)\n",
        "\n",
        "s.bind((host, port))\n",
        "print(\"server listening on port:\", port)\n",
        "s.listen(1)\n",
        "\n",
        "c,addr = s.accept()\n",
        "print(\"Connection from\", str(addr))\n",
        "\n",
        "c.send(b\"Hello , how are you\")\n",
        "c.send(\"bye\", encode())\n",
        "c.close()"
      ],
      "execution_count": null,
      "outputs": []
    },
    {
      "cell_type": "code",
      "metadata": {
        "id": "1etOJBWNc8Vm"
      },
      "source": [
        "# create a client\n",
        "\n",
        "import socket\n",
        "\n",
        "s = socket.socket()\n",
        "\n",
        "s.connect((\"localhost\",4000))\n",
        "\n",
        "msg = s.recv(1024)\n",
        "\n",
        "while msg:\n",
        "  print(\"Received: \", msg.decode())\n",
        "  msg = s.recv(1024)\n",
        "\n",
        "s.close()"
      ],
      "execution_count": null,
      "outputs": []
    },
    {
      "cell_type": "markdown",
      "metadata": {
        "id": "fBwN57osfUFG"
      },
      "source": [
        "### File Server and Client"
      ]
    },
    {
      "cell_type": "code",
      "metadata": {
        "id": "RUjISwl5fXLD"
      },
      "source": [
        "# File Server\n",
        "\n",
        "import socket\n",
        "\n",
        "host = 'localhost'\n",
        "port=4000\n",
        "\n",
        "s = socket.socket(socket.AF_INET,socket.SOCK_STREAM)\n",
        "\n",
        "s.bind((host, port))\n",
        "print(\"server listening on port:\", port)\n",
        "s.listen(1)\n",
        "\n",
        "c,addr = s.accept()\n",
        "\n",
        "filename = c.recv(1024)\n",
        "\n",
        "try:\n",
        "  f = open(fileName, 'rb')\n",
        "  content = f.read()\n",
        "  c.send(content)\n",
        "  f.close()\n",
        "\n",
        "except FileNotFoundError:\n",
        "  c.send(b\"File does not exist\")\n",
        "\n",
        "c.close()"
      ],
      "execution_count": null,
      "outputs": []
    },
    {
      "cell_type": "code",
      "metadata": {
        "id": "PTamYzeXie8m"
      },
      "source": [
        "# File Client\n",
        "\n",
        "import socket\n",
        "\n",
        "s = socket.socket()\n",
        "\n",
        "s.connect((\"localhost\",4000))\n",
        "\n",
        "fileName = input(\"enter a file name:\")\n",
        "\n",
        "s.send(fileName.encode())\n",
        "\n",
        "content = s.recv(1024)\n",
        "\n",
        "print(content.decode())\n",
        "\n",
        "s.close()"
      ],
      "execution_count": null,
      "outputs": []
    },
    {
      "cell_type": "markdown",
      "metadata": {
        "id": "srevtgFdjhel"
      },
      "source": [
        "### Sending Emails"
      ]
    },
    {
      "cell_type": "code",
      "metadata": {
        "id": "jLK3zYpWjkIU"
      },
      "source": [
        "# Email client\n",
        "\n",
        "import smtplib\n",
        "from email.mime.text import MIMEText\n",
        "\n",
        "body =  \"this is a test email. How are you\"\n",
        "\n",
        "msg =  MIMEText(body)\n",
        "msg['From']=\"springxyzabc@gmail.com\"\n",
        "msg['To']=\"springxyzabc@gmail.com\"\n",
        "msg['Subject']=\"Hello\"\n",
        "\n",
        "server = smtplib.SMTP('smtp.gmail.com',587)\n",
        "\n",
        "server.starttls()\n",
        "\n",
        "server.login(\"springxyzabc@gmail.com\", \"xyzabc123\")\n",
        "\n",
        "server.send_message(msg)\n",
        "\n",
        "print(\"mail sent\")\n",
        "\n",
        "server.quit()"
      ],
      "execution_count": null,
      "outputs": []
    }
  ]
}