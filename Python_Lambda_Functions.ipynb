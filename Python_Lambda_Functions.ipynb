{
  "nbformat": 4,
  "nbformat_minor": 0,
  "metadata": {
    "colab": {
      "name": "Python_Lambda_Functions.ipynb",
      "provenance": [],
      "authorship_tag": "ABX9TyPhWOP9XS0nM7zNwWZLpw8d",
      "include_colab_link": true
    },
    "kernelspec": {
      "name": "python3",
      "display_name": "Python 3"
    }
  },
  "cells": [
    {
      "cell_type": "markdown",
      "metadata": {
        "id": "view-in-github",
        "colab_type": "text"
      },
      "source": [
        "<a href=\"https://colab.research.google.com/github/pratyushagnihotri03/Python_Programming/blob/master/Python_Lambda_Functions.ipynb\" target=\"_parent\"><img src=\"https://colab.research.google.com/assets/colab-badge.svg\" alt=\"Open In Colab\"/></a>"
      ]
    },
    {
      "cell_type": "markdown",
      "metadata": {
        "id": "ZsY4VRuPsKsM"
      },
      "source": [
        "### Lambda - cube of a number"
      ]
    },
    {
      "cell_type": "code",
      "metadata": {
        "id": "VPW4DzBsqNn3"
      },
      "source": [
        "# Function way:\n",
        "'''\n",
        "def cube(n)\n",
        "  retunr n**3\n",
        "print (cube(3))\n",
        "'''\n",
        "# Lambda function\n",
        "f= lambda n:n**3\n",
        "print(f(2))"
      ],
      "execution_count": null,
      "outputs": []
    },
    {
      "cell_type": "markdown",
      "metadata": {
        "id": "NMOHwk9msPm_"
      },
      "source": [
        "### Lambda - Even or Odd"
      ]
    },
    {
      "cell_type": "code",
      "metadata": {
        "id": "zb-tNYg6rvK9",
        "outputId": "ee18a102-c00d-44a2-dc3a-b3ba75a69dbd",
        "colab": {
          "base_uri": "https://localhost:8080/",
          "height": 55
        }
      },
      "source": [
        "l= lambda x: 'YES' if x%2==0 else 'NO'\n",
        "print(l(10))\n",
        "print(l(9))"
      ],
      "execution_count": 4,
      "outputs": [
        {
          "output_type": "stream",
          "text": [
            "YES\n",
            "NO\n"
          ],
          "name": "stdout"
        }
      ]
    },
    {
      "cell_type": "markdown",
      "metadata": {
        "id": "Og3EurMZsTGh"
      },
      "source": [
        "### Lambda - Sum of Two Numbers"
      ]
    },
    {
      "cell_type": "code",
      "metadata": {
        "id": "q9XhsluosYRG"
      },
      "source": [
        "sum = lambda a,b: a+b\n",
        "print(sum(3,4))"
      ],
      "execution_count": null,
      "outputs": []
    },
    {
      "cell_type": "markdown",
      "metadata": {
        "id": "mUfjkhYrstb6"
      },
      "source": [
        "### Using a Filter"
      ]
    },
    {
      "cell_type": "code",
      "metadata": {
        "id": "dOomFNkPswF1"
      },
      "source": [
        "lst = [10,2,33,45,89,2]\n",
        "\n",
        "result =  list(filter(lambda x:x%2==0, lst))\n",
        "print(result)\n",
        "for i in result:\n",
        "  print(i)"
      ],
      "execution_count": null,
      "outputs": []
    },
    {
      "cell_type": "markdown",
      "metadata": {
        "id": "ZMT1XdtMwfnP"
      },
      "source": [
        "### Using a Map Function"
      ]
    },
    {
      "cell_type": "code",
      "metadata": {
        "id": "z7BzteWkwith"
      },
      "source": [
        "lst = [2,3,4,5]\n",
        "\n",
        "result=list(map(lambda n:n*2, lst))\n",
        "print(result)"
      ],
      "execution_count": null,
      "outputs": []
    },
    {
      "cell_type": "markdown",
      "metadata": {
        "id": "3F3Nvtouz7oD"
      },
      "source": [
        "### Using Reduce"
      ]
    },
    {
      "cell_type": "code",
      "metadata": {
        "id": "FOVRUJWCz-SJ"
      },
      "source": [
        "from functools import reduce\n",
        "\n",
        "lst =[5,10,15,20]\n",
        "result=reduce(lambda x,y: x+y, lst)\n",
        "\n",
        "print(result)"
      ],
      "execution_count": null,
      "outputs": []
    },
    {
      "cell_type": "markdown",
      "metadata": {
        "id": "iskd-ha90li8"
      },
      "source": [
        "### Using a Decorator Function"
      ]
    },
    {
      "cell_type": "code",
      "metadata": {
        "id": "yRB3wGnT0pLQ"
      },
      "source": [
        "#decorator that doubles the result\n",
        "\n",
        "def decor(fun):\n",
        "  def inner():\n",
        "    result = fun()\n",
        "    return result*2\n",
        "  return inner\n",
        "\n",
        "def num():\n",
        "  return 5\n",
        "\n",
        "resultFun = decor(num)\n",
        "print(resultFun())"
      ],
      "execution_count": null,
      "outputs": []
    },
    {
      "cell_type": "code",
      "metadata": {
        "id": "s-Cb5K0Q1r_r"
      },
      "source": [
        "def decorfun(fun):\n",
        "  def inner(n):\n",
        "    result = fun(n)\n",
        "    result = result + \" How are you?\"\n",
        "    return result\n",
        "  return inner\n",
        "  \n",
        "@decorfun\n",
        "def hello(name):\n",
        " return \"hello \" + name\n",
        "\n",
        "print(hello(\"John\"))"
      ],
      "execution_count": null,
      "outputs": []
    },
    {
      "cell_type": "markdown",
      "metadata": {
        "id": "wnDJd-JI2h0B"
      },
      "source": [
        "### Create a Generator"
      ]
    },
    {
      "cell_type": "code",
      "metadata": {
        "id": "vN6x8zl32lkf"
      },
      "source": [
        "def customgen(x,y):\n",
        "  while x<y:\n",
        "    yield x\n",
        "    x+=1\n",
        "\n",
        "result = customgen(10, 18)\n",
        "\n",
        "for i in result: print(i)"
      ],
      "execution_count": null,
      "outputs": []
    }
  ]
}